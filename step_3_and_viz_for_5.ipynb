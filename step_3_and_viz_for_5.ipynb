{
 "cells": [
  {
   "cell_type": "code",
   "execution_count": 1,
   "metadata": {},
   "outputs": [],
   "source": [
    "import numpy as np\n",
    "import pandas as pd\n",
    "import plotly.express as px\n",
    "import plotly.graph_objects as go\n",
    "from plotly.subplots import make_subplots\n",
    "\n",
    "from aif360.metrics import BinaryLabelDatasetMetric\n",
    "from aif360.datasets import BinaryLabelDataset\n",
    "from aif360.algorithms.preprocessing.reweighing import Reweighing\n",
    "from aif360.sklearn.metrics import disparate_impact_ratio, statistical_parity_difference\n",
    "# from aif360.sklearn.preprocessing import Reweighing\n",
    "# Explainers\n",
    "from aif360.explainers import MetricTextExplainer, MetricJSONExplainer\n",
    "\n",
    "from data_engineering import run_data_engineering\n"
   ]
  },
  {
   "cell_type": "code",
   "execution_count": 2,
   "metadata": {},
   "outputs": [
    {
     "data": {
      "text/html": [
       "<div>\n",
       "<style scoped>\n",
       "    .dataframe tbody tr th:only-of-type {\n",
       "        vertical-align: middle;\n",
       "    }\n",
       "\n",
       "    .dataframe tbody tr th {\n",
       "        vertical-align: top;\n",
       "    }\n",
       "\n",
       "    .dataframe thead th {\n",
       "        text-align: right;\n",
       "    }\n",
       "</style>\n",
       "<table border=\"1\" class=\"dataframe\">\n",
       "  <thead>\n",
       "    <tr style=\"text-align: right;\">\n",
       "      <th></th>\n",
       "      <th>school</th>\n",
       "      <th>sex</th>\n",
       "      <th>age</th>\n",
       "      <th>address</th>\n",
       "      <th>famsize</th>\n",
       "      <th>Pstatus</th>\n",
       "      <th>Medu</th>\n",
       "      <th>Fedu</th>\n",
       "      <th>Mjob</th>\n",
       "      <th>Fjob</th>\n",
       "      <th>...</th>\n",
       "      <th>G2</th>\n",
       "      <th>G3</th>\n",
       "      <th>age_group</th>\n",
       "      <th>age_group_binary</th>\n",
       "      <th>sex_binary</th>\n",
       "      <th>famsize_binary</th>\n",
       "      <th>health_group</th>\n",
       "      <th>health_group_binary</th>\n",
       "      <th>grade_group</th>\n",
       "      <th>grade_group_binary</th>\n",
       "    </tr>\n",
       "  </thead>\n",
       "  <tbody>\n",
       "    <tr>\n",
       "      <th>627</th>\n",
       "      <td>MS</td>\n",
       "      <td>M</td>\n",
       "      <td>18</td>\n",
       "      <td>R</td>\n",
       "      <td>LE3</td>\n",
       "      <td>T</td>\n",
       "      <td>1</td>\n",
       "      <td>2</td>\n",
       "      <td>at_home</td>\n",
       "      <td>services</td>\n",
       "      <td>...</td>\n",
       "      <td>10</td>\n",
       "      <td>10</td>\n",
       "      <td>GT17</td>\n",
       "      <td>1</td>\n",
       "      <td>1</td>\n",
       "      <td>1</td>\n",
       "      <td>bad</td>\n",
       "      <td>0</td>\n",
       "      <td>low</td>\n",
       "      <td>0</td>\n",
       "    </tr>\n",
       "    <tr>\n",
       "      <th>513</th>\n",
       "      <td>MS</td>\n",
       "      <td>F</td>\n",
       "      <td>16</td>\n",
       "      <td>U</td>\n",
       "      <td>GT3</td>\n",
       "      <td>T</td>\n",
       "      <td>3</td>\n",
       "      <td>1</td>\n",
       "      <td>other</td>\n",
       "      <td>other</td>\n",
       "      <td>...</td>\n",
       "      <td>6</td>\n",
       "      <td>8</td>\n",
       "      <td>LE17</td>\n",
       "      <td>0</td>\n",
       "      <td>0</td>\n",
       "      <td>0</td>\n",
       "      <td>bad</td>\n",
       "      <td>0</td>\n",
       "      <td>low</td>\n",
       "      <td>0</td>\n",
       "    </tr>\n",
       "    <tr>\n",
       "      <th>618</th>\n",
       "      <td>MS</td>\n",
       "      <td>F</td>\n",
       "      <td>18</td>\n",
       "      <td>R</td>\n",
       "      <td>LE3</td>\n",
       "      <td>A</td>\n",
       "      <td>1</td>\n",
       "      <td>2</td>\n",
       "      <td>at_home</td>\n",
       "      <td>other</td>\n",
       "      <td>...</td>\n",
       "      <td>15</td>\n",
       "      <td>15</td>\n",
       "      <td>GT17</td>\n",
       "      <td>1</td>\n",
       "      <td>0</td>\n",
       "      <td>1</td>\n",
       "      <td>good</td>\n",
       "      <td>1</td>\n",
       "      <td>high</td>\n",
       "      <td>1</td>\n",
       "    </tr>\n",
       "    <tr>\n",
       "      <th>103</th>\n",
       "      <td>GP</td>\n",
       "      <td>F</td>\n",
       "      <td>15</td>\n",
       "      <td>U</td>\n",
       "      <td>GT3</td>\n",
       "      <td>T</td>\n",
       "      <td>3</td>\n",
       "      <td>2</td>\n",
       "      <td>services</td>\n",
       "      <td>other</td>\n",
       "      <td>...</td>\n",
       "      <td>10</td>\n",
       "      <td>10</td>\n",
       "      <td>LE17</td>\n",
       "      <td>0</td>\n",
       "      <td>0</td>\n",
       "      <td>0</td>\n",
       "      <td>bad</td>\n",
       "      <td>0</td>\n",
       "      <td>low</td>\n",
       "      <td>0</td>\n",
       "    </tr>\n",
       "    <tr>\n",
       "      <th>364</th>\n",
       "      <td>GP</td>\n",
       "      <td>F</td>\n",
       "      <td>17</td>\n",
       "      <td>U</td>\n",
       "      <td>GT3</td>\n",
       "      <td>T</td>\n",
       "      <td>4</td>\n",
       "      <td>4</td>\n",
       "      <td>health</td>\n",
       "      <td>health</td>\n",
       "      <td>...</td>\n",
       "      <td>15</td>\n",
       "      <td>17</td>\n",
       "      <td>LE17</td>\n",
       "      <td>0</td>\n",
       "      <td>0</td>\n",
       "      <td>0</td>\n",
       "      <td>good</td>\n",
       "      <td>1</td>\n",
       "      <td>high</td>\n",
       "      <td>1</td>\n",
       "    </tr>\n",
       "    <tr>\n",
       "      <th>594</th>\n",
       "      <td>MS</td>\n",
       "      <td>F</td>\n",
       "      <td>18</td>\n",
       "      <td>U</td>\n",
       "      <td>GT3</td>\n",
       "      <td>T</td>\n",
       "      <td>4</td>\n",
       "      <td>4</td>\n",
       "      <td>teacher</td>\n",
       "      <td>teacher</td>\n",
       "      <td>...</td>\n",
       "      <td>18</td>\n",
       "      <td>18</td>\n",
       "      <td>GT17</td>\n",
       "      <td>1</td>\n",
       "      <td>0</td>\n",
       "      <td>0</td>\n",
       "      <td>bad</td>\n",
       "      <td>0</td>\n",
       "      <td>high</td>\n",
       "      <td>1</td>\n",
       "    </tr>\n",
       "    <tr>\n",
       "      <th>427</th>\n",
       "      <td>MS</td>\n",
       "      <td>F</td>\n",
       "      <td>16</td>\n",
       "      <td>R</td>\n",
       "      <td>GT3</td>\n",
       "      <td>T</td>\n",
       "      <td>2</td>\n",
       "      <td>3</td>\n",
       "      <td>at_home</td>\n",
       "      <td>services</td>\n",
       "      <td>...</td>\n",
       "      <td>17</td>\n",
       "      <td>17</td>\n",
       "      <td>LE17</td>\n",
       "      <td>0</td>\n",
       "      <td>0</td>\n",
       "      <td>0</td>\n",
       "      <td>good</td>\n",
       "      <td>1</td>\n",
       "      <td>high</td>\n",
       "      <td>1</td>\n",
       "    </tr>\n",
       "    <tr>\n",
       "      <th>160</th>\n",
       "      <td>GP</td>\n",
       "      <td>F</td>\n",
       "      <td>15</td>\n",
       "      <td>U</td>\n",
       "      <td>GT3</td>\n",
       "      <td>T</td>\n",
       "      <td>1</td>\n",
       "      <td>2</td>\n",
       "      <td>at_home</td>\n",
       "      <td>services</td>\n",
       "      <td>...</td>\n",
       "      <td>11</td>\n",
       "      <td>11</td>\n",
       "      <td>LE17</td>\n",
       "      <td>0</td>\n",
       "      <td>0</td>\n",
       "      <td>0</td>\n",
       "      <td>bad</td>\n",
       "      <td>0</td>\n",
       "      <td>low</td>\n",
       "      <td>0</td>\n",
       "    </tr>\n",
       "    <tr>\n",
       "      <th>515</th>\n",
       "      <td>MS</td>\n",
       "      <td>F</td>\n",
       "      <td>18</td>\n",
       "      <td>U</td>\n",
       "      <td>LE3</td>\n",
       "      <td>T</td>\n",
       "      <td>1</td>\n",
       "      <td>1</td>\n",
       "      <td>other</td>\n",
       "      <td>at_home</td>\n",
       "      <td>...</td>\n",
       "      <td>8</td>\n",
       "      <td>10</td>\n",
       "      <td>GT17</td>\n",
       "      <td>1</td>\n",
       "      <td>0</td>\n",
       "      <td>1</td>\n",
       "      <td>bad</td>\n",
       "      <td>0</td>\n",
       "      <td>low</td>\n",
       "      <td>0</td>\n",
       "    </tr>\n",
       "    <tr>\n",
       "      <th>588</th>\n",
       "      <td>MS</td>\n",
       "      <td>F</td>\n",
       "      <td>17</td>\n",
       "      <td>U</td>\n",
       "      <td>GT3</td>\n",
       "      <td>T</td>\n",
       "      <td>4</td>\n",
       "      <td>1</td>\n",
       "      <td>health</td>\n",
       "      <td>at_home</td>\n",
       "      <td>...</td>\n",
       "      <td>10</td>\n",
       "      <td>9</td>\n",
       "      <td>LE17</td>\n",
       "      <td>0</td>\n",
       "      <td>0</td>\n",
       "      <td>0</td>\n",
       "      <td>good</td>\n",
       "      <td>1</td>\n",
       "      <td>low</td>\n",
       "      <td>0</td>\n",
       "    </tr>\n",
       "  </tbody>\n",
       "</table>\n",
       "<p>10 rows × 41 columns</p>\n",
       "</div>"
      ],
      "text/plain": [
       "    school sex  age address famsize Pstatus  Medu  Fedu      Mjob      Fjob  \\\n",
       "627     MS   M   18       R     LE3       T     1     2   at_home  services   \n",
       "513     MS   F   16       U     GT3       T     3     1     other     other   \n",
       "618     MS   F   18       R     LE3       A     1     2   at_home     other   \n",
       "103     GP   F   15       U     GT3       T     3     2  services     other   \n",
       "364     GP   F   17       U     GT3       T     4     4    health    health   \n",
       "594     MS   F   18       U     GT3       T     4     4   teacher   teacher   \n",
       "427     MS   F   16       R     GT3       T     2     3   at_home  services   \n",
       "160     GP   F   15       U     GT3       T     1     2   at_home  services   \n",
       "515     MS   F   18       U     LE3       T     1     1     other   at_home   \n",
       "588     MS   F   17       U     GT3       T     4     1    health   at_home   \n",
       "\n",
       "     ...  G2  G3  age_group  age_group_binary  sex_binary famsize_binary  \\\n",
       "627  ...  10  10       GT17                 1           1              1   \n",
       "513  ...   6   8       LE17                 0           0              0   \n",
       "618  ...  15  15       GT17                 1           0              1   \n",
       "103  ...  10  10       LE17                 0           0              0   \n",
       "364  ...  15  17       LE17                 0           0              0   \n",
       "594  ...  18  18       GT17                 1           0              0   \n",
       "427  ...  17  17       LE17                 0           0              0   \n",
       "160  ...  11  11       LE17                 0           0              0   \n",
       "515  ...   8  10       GT17                 1           0              1   \n",
       "588  ...  10   9       LE17                 0           0              0   \n",
       "\n",
       "    health_group health_group_binary grade_group grade_group_binary  \n",
       "627          bad                   0         low                  0  \n",
       "513          bad                   0         low                  0  \n",
       "618         good                   1        high                  1  \n",
       "103          bad                   0         low                  0  \n",
       "364         good                   1        high                  1  \n",
       "594          bad                   0        high                  1  \n",
       "427         good                   1        high                  1  \n",
       "160          bad                   0         low                  0  \n",
       "515          bad                   0         low                  0  \n",
       "588         good                   1         low                  0  \n",
       "\n",
       "[10 rows x 41 columns]"
      ]
     },
     "execution_count": 2,
     "metadata": {},
     "output_type": "execute_result"
    }
   ],
   "source": [
    "df = pd.read_csv('./data/original/student-por.csv', sep=';')\n",
    "df = run_data_engineering(df)\n",
    "df.sample(10)"
   ]
  },
  {
   "cell_type": "markdown",
   "metadata": {},
   "source": [
    "## Step 3"
   ]
  },
  {
   "cell_type": "markdown",
   "metadata": {},
   "source": [
    "### Part 1\n",
    "\n",
    "Based on your dataset, identify the privileged/unprivileged groups associated with each of your protected\n",
    "class variables (i.e. convert to a binary classification problem) -- done as part of data engineering"
   ]
  },
  {
   "cell_type": "markdown",
   "metadata": {},
   "source": [
    "### Parts 2 - 4\n",
    "For each protected class variable, select two fairness metrics and compute the fairness metrics associated with your privileged/unprivileged groups as a function of your two dependent variables.\n",
    "\n",
    "Fairness metrics selected:\n",
    "* Disparate Impact: Computed as the ratio of rate of favorable outcome for the unprivileged group to that of the privileged group. The ideal value of this metric is 1.0 A value < 1 implies higher benefit for the privileged group and a value >1 implies a higher benefit for the unprivileged group. Fairness for this metric is between 0.8 and 1.2\n",
    "\n",
    "* Statistical Parity Difference: Computed as the difference of the rate of favorable outcomes received by the unprivileged group to the privileged group. The ideal value of this metric is 0. Fairness for this metric is between -0.1 and 0.1"
   ]
  },
  {
   "cell_type": "code",
   "execution_count": 3,
   "metadata": {},
   "outputs": [],
   "source": [
    "# Functions needed for analysis\n",
    "def _make_dataset(df, label_name):\n",
    "    dataset = BinaryLabelDataset(\n",
    "        df=df[['sex_binary', 'age_group_binary', 'famsize_binary', 'health_group_binary', 'grade_group_binary']],\n",
    "        label_names=[label_name],\n",
    "        protected_attribute_names=['sex_binary', 'age_group_binary', 'famsize_binary']\n",
    "    )\n",
    "    return dataset\n",
    "\n",
    "\n",
    "def _make_groups(var):\n",
    "    privileged_groups = [{var: 1}]\n",
    "    unprivileged_groups = [{var: 0}]\n",
    "    return privileged_groups, unprivileged_groups\n",
    "\n",
    "\n",
    "def _transform_dataset(dataset, unprivileged_groups, privileged_groups):\n",
    "    weighter = Reweighing(unprivileged_groups=unprivileged_groups, privileged_groups=privileged_groups)\n",
    "    weighter.fit(dataset)\n",
    "    transformed_dataset = weighter.transform(dataset)\n",
    "    return transformed_dataset\n",
    "    \n",
    "    \n",
    "def _get_metrics(df, var, label_name, transform=False):\n",
    "    dataset = _make_dataset(df, label_name)\n",
    "    privileged_groups, unprivileged_groups = _make_groups(var)\n",
    "    \n",
    "    if transform:\n",
    "        privileged_groups_all = [{'sex_binary': 1, 'age_group_binary': 1, 'famsize_binary': 1}]\n",
    "        unprivileged_groups_all = [{'sex_binary': 0, 'age_group_binary': 0, 'famsize_binary': 0}]\n",
    "        dataset = _transform_dataset(dataset, unprivileged_groups_all, privileged_groups_all)\n",
    "        \n",
    "    metric = BinaryLabelDatasetMetric(\n",
    "        dataset,\n",
    "        unprivileged_groups=unprivileged_groups,\n",
    "        privileged_groups=privileged_groups\n",
    "    )\n",
    "    return metric\n",
    "\n",
    "def _get_metric_df(df, var, label_name, transform=False):\n",
    "    metrics = _get_metrics(df, var, label_name, transform)\n",
    "    stat_par_diff = metrics.statistical_parity_difference()\n",
    "    disp_impact = metrics.disparate_impact()\n",
    "    return pd.DataFrame({\n",
    "        'variable': [var],\n",
    "        'label': [label_name],\n",
    "        'stat_par_diff': [stat_par_diff],\n",
    "        'disp_impact': [disp_impact]\n",
    "    })\n",
    "\n",
    "def generate_metrics(df, transform=False):\n",
    "    results_dfs = []\n",
    "    for var in ['sex_binary', 'age_group_binary', 'famsize_binary']:\n",
    "        for label in ['health_group_binary', 'grade_group_binary']:\n",
    "            results_dfs.append(_get_metric_df(df, var, label, transform))\n",
    "    return pd.concat(results_dfs)\n",
    "    "
   ]
  },
  {
   "cell_type": "code",
   "execution_count": 4,
   "metadata": {},
   "outputs": [
    {
     "data": {
      "text/html": [
       "<div>\n",
       "<style scoped>\n",
       "    .dataframe tbody tr th:only-of-type {\n",
       "        vertical-align: middle;\n",
       "    }\n",
       "\n",
       "    .dataframe tbody tr th {\n",
       "        vertical-align: top;\n",
       "    }\n",
       "\n",
       "    .dataframe thead th {\n",
       "        text-align: right;\n",
       "    }\n",
       "</style>\n",
       "<table border=\"1\" class=\"dataframe\">\n",
       "  <thead>\n",
       "    <tr style=\"text-align: right;\">\n",
       "      <th></th>\n",
       "      <th>variable</th>\n",
       "      <th>label</th>\n",
       "      <th>stat_par_diff</th>\n",
       "      <th>disp_impact</th>\n",
       "    </tr>\n",
       "  </thead>\n",
       "  <tbody>\n",
       "    <tr>\n",
       "      <th>0</th>\n",
       "      <td>sex_binary</td>\n",
       "      <td>health_group_binary</td>\n",
       "      <td>-0.112625</td>\n",
       "      <td>0.817328</td>\n",
       "    </tr>\n",
       "    <tr>\n",
       "      <th>0</th>\n",
       "      <td>sex_binary</td>\n",
       "      <td>grade_group_binary</td>\n",
       "      <td>0.128183</td>\n",
       "      <td>1.366630</td>\n",
       "    </tr>\n",
       "    <tr>\n",
       "      <th>0</th>\n",
       "      <td>age_group_binary</td>\n",
       "      <td>health_group_binary</td>\n",
       "      <td>0.042629</td>\n",
       "      <td>1.082083</td>\n",
       "    </tr>\n",
       "    <tr>\n",
       "      <th>0</th>\n",
       "      <td>age_group_binary</td>\n",
       "      <td>grade_group_binary</td>\n",
       "      <td>0.045769</td>\n",
       "      <td>1.116679</td>\n",
       "    </tr>\n",
       "    <tr>\n",
       "      <th>0</th>\n",
       "      <td>famsize_binary</td>\n",
       "      <td>health_group_binary</td>\n",
       "      <td>0.004547</td>\n",
       "      <td>1.008315</td>\n",
       "    </tr>\n",
       "    <tr>\n",
       "      <th>0</th>\n",
       "      <td>famsize_binary</td>\n",
       "      <td>grade_group_binary</td>\n",
       "      <td>0.034407</td>\n",
       "      <td>1.085794</td>\n",
       "    </tr>\n",
       "  </tbody>\n",
       "</table>\n",
       "</div>"
      ],
      "text/plain": [
       "           variable                label  stat_par_diff  disp_impact\n",
       "0        sex_binary  health_group_binary      -0.112625     0.817328\n",
       "0        sex_binary   grade_group_binary       0.128183     1.366630\n",
       "0  age_group_binary  health_group_binary       0.042629     1.082083\n",
       "0  age_group_binary   grade_group_binary       0.045769     1.116679\n",
       "0    famsize_binary  health_group_binary       0.004547     1.008315\n",
       "0    famsize_binary   grade_group_binary       0.034407     1.085794"
      ]
     },
     "execution_count": 4,
     "metadata": {},
     "output_type": "execute_result"
    }
   ],
   "source": [
    "original_metrics = generate_metrics(df)\n",
    "original_metrics"
   ]
  },
  {
   "cell_type": "code",
   "execution_count": 5,
   "metadata": {},
   "outputs": [
    {
     "data": {
      "text/html": [
       "<div>\n",
       "<style scoped>\n",
       "    .dataframe tbody tr th:only-of-type {\n",
       "        vertical-align: middle;\n",
       "    }\n",
       "\n",
       "    .dataframe tbody tr th {\n",
       "        vertical-align: top;\n",
       "    }\n",
       "\n",
       "    .dataframe thead th {\n",
       "        text-align: right;\n",
       "    }\n",
       "</style>\n",
       "<table border=\"1\" class=\"dataframe\">\n",
       "  <thead>\n",
       "    <tr style=\"text-align: right;\">\n",
       "      <th></th>\n",
       "      <th>variable</th>\n",
       "      <th>label</th>\n",
       "      <th>stat_par_diff</th>\n",
       "      <th>disp_impact</th>\n",
       "    </tr>\n",
       "  </thead>\n",
       "  <tbody>\n",
       "    <tr>\n",
       "      <th>0</th>\n",
       "      <td>sex_binary</td>\n",
       "      <td>health_group_binary</td>\n",
       "      <td>-0.109553</td>\n",
       "      <td>0.821661</td>\n",
       "    </tr>\n",
       "    <tr>\n",
       "      <th>0</th>\n",
       "      <td>sex_binary</td>\n",
       "      <td>grade_group_binary</td>\n",
       "      <td>0.062540</td>\n",
       "      <td>1.175284</td>\n",
       "    </tr>\n",
       "    <tr>\n",
       "      <th>0</th>\n",
       "      <td>age_group_binary</td>\n",
       "      <td>health_group_binary</td>\n",
       "      <td>0.046607</td>\n",
       "      <td>1.090317</td>\n",
       "    </tr>\n",
       "    <tr>\n",
       "      <th>0</th>\n",
       "      <td>age_group_binary</td>\n",
       "      <td>grade_group_binary</td>\n",
       "      <td>-0.012621</td>\n",
       "      <td>0.968666</td>\n",
       "    </tr>\n",
       "    <tr>\n",
       "      <th>0</th>\n",
       "      <td>famsize_binary</td>\n",
       "      <td>health_group_binary</td>\n",
       "      <td>0.008352</td>\n",
       "      <td>1.015360</td>\n",
       "    </tr>\n",
       "    <tr>\n",
       "      <th>0</th>\n",
       "      <td>famsize_binary</td>\n",
       "      <td>grade_group_binary</td>\n",
       "      <td>-0.024531</td>\n",
       "      <td>0.940309</td>\n",
       "    </tr>\n",
       "  </tbody>\n",
       "</table>\n",
       "</div>"
      ],
      "text/plain": [
       "           variable                label  stat_par_diff  disp_impact\n",
       "0        sex_binary  health_group_binary      -0.109553     0.821661\n",
       "0        sex_binary   grade_group_binary       0.062540     1.175284\n",
       "0  age_group_binary  health_group_binary       0.046607     1.090317\n",
       "0  age_group_binary   grade_group_binary      -0.012621     0.968666\n",
       "0    famsize_binary  health_group_binary       0.008352     1.015360\n",
       "0    famsize_binary   grade_group_binary      -0.024531     0.940309"
      ]
     },
     "execution_count": 5,
     "metadata": {},
     "output_type": "execute_result"
    }
   ],
   "source": [
    "transformed_metrics = generate_metrics(df, transform=True)\n",
    "transformed_metrics"
   ]
  },
  {
   "cell_type": "markdown",
   "metadata": {},
   "source": [
    "## Step 5\n",
    "\n",
    "(Does not appear to need to be submitted?)"
   ]
  },
  {
   "cell_type": "code",
   "execution_count": 7,
   "metadata": {},
   "outputs": [
    {
     "data": {
      "application/vnd.plotly.v1+json": {
       "config": {
        "plotlyServerURL": "https://plot.ly"
       },
       "data": [
        {
         "marker": {
          "color": "red"
         },
         "name": "Fairness Thresholds",
         "type": "scatter",
         "x": [
          "Original",
          "Transformed"
         ],
         "xaxis": "x",
         "y": [
          1.2,
          1.2
         ],
         "yaxis": "y"
        },
        {
         "marker": {
          "color": "#999999"
         },
         "name": "sex_binary (Privileged=M, Unprivileged=F)",
         "showlegend": true,
         "type": "bar",
         "x": [
          "Original",
          "Transformed"
         ],
         "xaxis": "x",
         "y": [
          1.36663,
          1.175284
         ],
         "yaxis": "y"
        },
        {
         "marker": {
          "color": "red"
         },
         "name": "Fairness Thresholds",
         "showlegend": false,
         "type": "scatter",
         "x": [
          "Original",
          "Transformed"
         ],
         "xaxis": "x",
         "y": [
          0.8,
          0.8
         ],
         "yaxis": "y"
        },
        {
         "marker": {
          "color": "#E69F00"
         },
         "name": "age_group_binary (Privileged= >17, Unprivileged= <=17)",
         "showlegend": true,
         "type": "bar",
         "x": [
          "Original",
          "Transformed"
         ],
         "xaxis": "x2",
         "y": [
          1.116679,
          0.968666
         ],
         "yaxis": "y2"
        },
        {
         "marker": {
          "color": "red"
         },
         "name": "Fairness Thresholds",
         "showlegend": false,
         "type": "scatter",
         "x": [
          "Original",
          "Transformed"
         ],
         "xaxis": "x2",
         "y": [
          1.2,
          1.2
         ],
         "yaxis": "y2"
        },
        {
         "marker": {
          "color": "red"
         },
         "name": "Fairness Thresholds",
         "showlegend": false,
         "type": "scatter",
         "x": [
          "Original",
          "Transformed"
         ],
         "xaxis": "x2",
         "y": [
          0.8,
          0.8
         ],
         "yaxis": "y2"
        },
        {
         "marker": {
          "color": "#56B4E9"
         },
         "name": "famsize_binary (Privileged= >3, Unprivileged= <=3)",
         "showlegend": true,
         "type": "bar",
         "x": [
          "Original",
          "Transformed"
         ],
         "xaxis": "x3",
         "y": [
          1.085794,
          0.940309
         ],
         "yaxis": "y3"
        },
        {
         "marker": {
          "color": "red"
         },
         "name": "Fairness Thresholds",
         "showlegend": false,
         "type": "scatter",
         "x": [
          "Original",
          "Transformed"
         ],
         "xaxis": "x3",
         "y": [
          1.2,
          1.2
         ],
         "yaxis": "y3"
        },
        {
         "marker": {
          "color": "red"
         },
         "name": "Fairness Thresholds",
         "showlegend": false,
         "type": "scatter",
         "x": [
          "Original",
          "Transformed"
         ],
         "xaxis": "x3",
         "y": [
          0.8,
          0.8
         ],
         "yaxis": "y3"
        },
        {
         "marker": {
          "color": "red"
         },
         "name": "Fairness Thresholds",
         "showlegend": false,
         "type": "scatter",
         "x": [
          "Original",
          "Transformed"
         ],
         "xaxis": "x4",
         "y": [
          0.1,
          0.1
         ],
         "yaxis": "y4"
        },
        {
         "marker": {
          "color": "#999999"
         },
         "name": "sex_binary (Privileged=M, Unprivileged=F)",
         "showlegend": false,
         "type": "bar",
         "x": [
          "Original",
          "Transformed"
         ],
         "xaxis": "x4",
         "y": [
          0.128183,
          0.06254
         ],
         "yaxis": "y4"
        },
        {
         "marker": {
          "color": "red"
         },
         "name": "Fairness Thresholds",
         "showlegend": false,
         "type": "scatter",
         "x": [
          "Original",
          "Transformed"
         ],
         "xaxis": "x4",
         "y": [
          -0.1,
          -0.1
         ],
         "yaxis": "y4"
        },
        {
         "marker": {
          "color": "#E69F00"
         },
         "name": "age_group_binary (Privileged= >17, Unprivileged= <=17)",
         "showlegend": false,
         "type": "bar",
         "x": [
          "Original",
          "Transformed"
         ],
         "xaxis": "x5",
         "y": [
          0.04577,
          -0.0126
         ],
         "yaxis": "y5"
        },
        {
         "marker": {
          "color": "red"
         },
         "name": "Fairness Thresholds",
         "showlegend": false,
         "type": "scatter",
         "x": [
          "Original",
          "Transformed"
         ],
         "xaxis": "x5",
         "y": [
          0.1,
          0.1
         ],
         "yaxis": "y5"
        },
        {
         "marker": {
          "color": "red"
         },
         "name": "Fairness Thresholds",
         "showlegend": false,
         "type": "scatter",
         "x": [
          "Original",
          "Transformed"
         ],
         "xaxis": "x5",
         "y": [
          -0.1,
          -0.1
         ],
         "yaxis": "y5"
        },
        {
         "marker": {
          "color": "#56B4E9"
         },
         "name": "famsize_binary (Privileged= >3, Unprivileged= <=3)",
         "showlegend": false,
         "type": "bar",
         "x": [
          "Original",
          "Transformed"
         ],
         "xaxis": "x6",
         "y": [
          0.0344,
          -0.0245
         ],
         "yaxis": "y6"
        },
        {
         "marker": {
          "color": "red"
         },
         "name": "Fairness Thresholds",
         "showlegend": false,
         "type": "scatter",
         "x": [
          "Original",
          "Transformed"
         ],
         "xaxis": "x6",
         "y": [
          0.1,
          0.1
         ],
         "yaxis": "y6"
        },
        {
         "marker": {
          "color": "red"
         },
         "name": "Fairness Thresholds",
         "showlegend": false,
         "type": "scatter",
         "x": [
          "Original",
          "Transformed"
         ],
         "xaxis": "x6",
         "y": [
          -0.1,
          -0.1
         ],
         "yaxis": "y6"
        },
        {
         "marker": {
          "color": "red"
         },
         "name": "Fairness Thresholds",
         "showlegend": false,
         "type": "scatter",
         "x": [
          "Original",
          "Transformed"
         ],
         "xaxis": "x7",
         "y": [
          1.2,
          1.2
         ],
         "yaxis": "y7"
        },
        {
         "marker": {
          "color": "#999999"
         },
         "name": "sex_binary (Privileged=M, Unprivileged=F)",
         "showlegend": false,
         "type": "bar",
         "x": [
          "Original",
          "Transformed"
         ],
         "xaxis": "x7",
         "y": [
          0.817,
          0.822
         ],
         "yaxis": "y7"
        },
        {
         "marker": {
          "color": "red"
         },
         "name": "Fairness Thresholds",
         "showlegend": false,
         "type": "scatter",
         "x": [
          "Original",
          "Transformed"
         ],
         "xaxis": "x7",
         "y": [
          0.8,
          0.8
         ],
         "yaxis": "y7"
        },
        {
         "marker": {
          "color": "#E69F00"
         },
         "name": "age_group_binary (Privileged= >17, Unprivileged= <=17)",
         "showlegend": false,
         "type": "bar",
         "x": [
          "Original",
          "Transformed"
         ],
         "xaxis": "x8",
         "y": [
          1.082,
          1.09
         ],
         "yaxis": "y8"
        },
        {
         "marker": {
          "color": "red"
         },
         "name": "Fairness Thresholds",
         "showlegend": false,
         "type": "scatter",
         "x": [
          "Original",
          "Transformed"
         ],
         "xaxis": "x8",
         "y": [
          1.2,
          1.2
         ],
         "yaxis": "y8"
        },
        {
         "marker": {
          "color": "red"
         },
         "name": "Fairness Thresholds",
         "showlegend": false,
         "type": "scatter",
         "x": [
          "Original",
          "Transformed"
         ],
         "xaxis": "x8",
         "y": [
          0.8,
          0.8
         ],
         "yaxis": "y8"
        },
        {
         "marker": {
          "color": "#56B4E9"
         },
         "name": "famsize_binary (Privileged= >3, Unprivileged= <=3)",
         "showlegend": false,
         "type": "bar",
         "x": [
          "Original",
          "Transformed"
         ],
         "xaxis": "x9",
         "y": [
          1.008,
          1.015
         ],
         "yaxis": "y9"
        },
        {
         "marker": {
          "color": "red"
         },
         "name": "Fairness Thresholds",
         "showlegend": false,
         "type": "scatter",
         "x": [
          "Original",
          "Transformed"
         ],
         "xaxis": "x9",
         "y": [
          1.2,
          1.2
         ],
         "yaxis": "y9"
        },
        {
         "marker": {
          "color": "red"
         },
         "name": "Fairness Thresholds",
         "showlegend": false,
         "type": "scatter",
         "x": [
          "Original",
          "Transformed"
         ],
         "xaxis": "x9",
         "y": [
          0.8,
          0.8
         ],
         "yaxis": "y9"
        },
        {
         "marker": {
          "color": "red"
         },
         "name": "Fairness Thresholds",
         "showlegend": false,
         "type": "scatter",
         "x": [
          "Original",
          "Transformed"
         ],
         "xaxis": "x10",
         "y": [
          0.1,
          0.1
         ],
         "yaxis": "y10"
        },
        {
         "marker": {
          "color": "#999999"
         },
         "name": "sex_binary (Privileged=M, Unprivileged=F)",
         "showlegend": false,
         "type": "bar",
         "x": [
          "Original",
          "Transformed"
         ],
         "xaxis": "x10",
         "y": [
          -0.1126,
          -0.1096
         ],
         "yaxis": "y10"
        },
        {
         "marker": {
          "color": "red"
         },
         "name": "Fairness Thresholds",
         "showlegend": false,
         "type": "scatter",
         "x": [
          "Original",
          "Transformed"
         ],
         "xaxis": "x10",
         "y": [
          -0.1,
          -0.1
         ],
         "yaxis": "y10"
        },
        {
         "marker": {
          "color": "#E69F00"
         },
         "name": "age_group_binary (Privileged= >17, Unprivileged= <=17)",
         "showlegend": false,
         "type": "bar",
         "x": [
          "Original",
          "Transformed"
         ],
         "xaxis": "x11",
         "y": [
          0.0426,
          0.0466
         ],
         "yaxis": "y11"
        },
        {
         "marker": {
          "color": "red"
         },
         "name": "Fairness Thresholds",
         "showlegend": false,
         "type": "scatter",
         "x": [
          "Original",
          "Transformed"
         ],
         "xaxis": "x11",
         "y": [
          0.1,
          0.1
         ],
         "yaxis": "y11"
        },
        {
         "marker": {
          "color": "red"
         },
         "name": "Fairness Thresholds",
         "showlegend": false,
         "type": "scatter",
         "x": [
          "Original",
          "Transformed"
         ],
         "xaxis": "x11",
         "y": [
          -0.1,
          -0.1
         ],
         "yaxis": "y11"
        },
        {
         "marker": {
          "color": "#56B4E9"
         },
         "name": "famsize_binary (Privileged= >3, Unprivileged= <=3)",
         "showlegend": false,
         "type": "bar",
         "x": [
          "Original",
          "Transformed"
         ],
         "xaxis": "x12",
         "y": [
          0.0045,
          0.0084
         ],
         "yaxis": "y12"
        },
        {
         "marker": {
          "color": "red"
         },
         "name": "Fairness Thresholds",
         "showlegend": false,
         "type": "scatter",
         "x": [
          "Original",
          "Transformed"
         ],
         "xaxis": "x12",
         "y": [
          0.1,
          0.1
         ],
         "yaxis": "y12"
        },
        {
         "marker": {
          "color": "red"
         },
         "name": "Fairness Thresholds",
         "showlegend": false,
         "type": "scatter",
         "x": [
          "Original",
          "Transformed"
         ],
         "xaxis": "x12",
         "y": [
          -0.1,
          -0.1
         ],
         "yaxis": "y12"
        }
       ],
       "layout": {
        "annotations": [
         {
          "font": {
           "size": 16
          },
          "showarrow": false,
          "text": "Disparate Impact (grade_group_binary)",
          "x": 0.5,
          "xanchor": "center",
          "xref": "paper",
          "y": 1,
          "yanchor": "bottom",
          "yref": "paper"
         },
         {
          "font": {
           "size": 16
          },
          "showarrow": false,
          "text": "Statistical Parity Difference (grade_group_binary)",
          "x": 0.5,
          "xanchor": "center",
          "xref": "paper",
          "y": 0.71875,
          "yanchor": "bottom",
          "yref": "paper"
         },
         {
          "font": {
           "size": 16
          },
          "showarrow": false,
          "text": "Disparate Impact (health_group_binary)",
          "x": 0.5,
          "xanchor": "center",
          "xref": "paper",
          "y": 0.4375,
          "yanchor": "bottom",
          "yref": "paper"
         },
         {
          "font": {
           "size": 16
          },
          "showarrow": false,
          "text": "Statistical Parity Difference (health_group_binary)",
          "x": 0.5,
          "xanchor": "center",
          "xref": "paper",
          "y": 0.15625,
          "yanchor": "bottom",
          "yref": "paper"
         }
        ],
        "height": 1000,
        "template": {
         "data": {
          "bar": [
           {
            "error_x": {
             "color": "#2a3f5f"
            },
            "error_y": {
             "color": "#2a3f5f"
            },
            "marker": {
             "line": {
              "color": "#E5ECF6",
              "width": 0.5
             }
            },
            "type": "bar"
           }
          ],
          "barpolar": [
           {
            "marker": {
             "line": {
              "color": "#E5ECF6",
              "width": 0.5
             }
            },
            "type": "barpolar"
           }
          ],
          "carpet": [
           {
            "aaxis": {
             "endlinecolor": "#2a3f5f",
             "gridcolor": "white",
             "linecolor": "white",
             "minorgridcolor": "white",
             "startlinecolor": "#2a3f5f"
            },
            "baxis": {
             "endlinecolor": "#2a3f5f",
             "gridcolor": "white",
             "linecolor": "white",
             "minorgridcolor": "white",
             "startlinecolor": "#2a3f5f"
            },
            "type": "carpet"
           }
          ],
          "choropleth": [
           {
            "colorbar": {
             "outlinewidth": 0,
             "ticks": ""
            },
            "type": "choropleth"
           }
          ],
          "contour": [
           {
            "colorbar": {
             "outlinewidth": 0,
             "ticks": ""
            },
            "colorscale": [
             [
              0,
              "#0d0887"
             ],
             [
              0.1111111111111111,
              "#46039f"
             ],
             [
              0.2222222222222222,
              "#7201a8"
             ],
             [
              0.3333333333333333,
              "#9c179e"
             ],
             [
              0.4444444444444444,
              "#bd3786"
             ],
             [
              0.5555555555555556,
              "#d8576b"
             ],
             [
              0.6666666666666666,
              "#ed7953"
             ],
             [
              0.7777777777777778,
              "#fb9f3a"
             ],
             [
              0.8888888888888888,
              "#fdca26"
             ],
             [
              1,
              "#f0f921"
             ]
            ],
            "type": "contour"
           }
          ],
          "contourcarpet": [
           {
            "colorbar": {
             "outlinewidth": 0,
             "ticks": ""
            },
            "type": "contourcarpet"
           }
          ],
          "heatmap": [
           {
            "colorbar": {
             "outlinewidth": 0,
             "ticks": ""
            },
            "colorscale": [
             [
              0,
              "#0d0887"
             ],
             [
              0.1111111111111111,
              "#46039f"
             ],
             [
              0.2222222222222222,
              "#7201a8"
             ],
             [
              0.3333333333333333,
              "#9c179e"
             ],
             [
              0.4444444444444444,
              "#bd3786"
             ],
             [
              0.5555555555555556,
              "#d8576b"
             ],
             [
              0.6666666666666666,
              "#ed7953"
             ],
             [
              0.7777777777777778,
              "#fb9f3a"
             ],
             [
              0.8888888888888888,
              "#fdca26"
             ],
             [
              1,
              "#f0f921"
             ]
            ],
            "type": "heatmap"
           }
          ],
          "heatmapgl": [
           {
            "colorbar": {
             "outlinewidth": 0,
             "ticks": ""
            },
            "colorscale": [
             [
              0,
              "#0d0887"
             ],
             [
              0.1111111111111111,
              "#46039f"
             ],
             [
              0.2222222222222222,
              "#7201a8"
             ],
             [
              0.3333333333333333,
              "#9c179e"
             ],
             [
              0.4444444444444444,
              "#bd3786"
             ],
             [
              0.5555555555555556,
              "#d8576b"
             ],
             [
              0.6666666666666666,
              "#ed7953"
             ],
             [
              0.7777777777777778,
              "#fb9f3a"
             ],
             [
              0.8888888888888888,
              "#fdca26"
             ],
             [
              1,
              "#f0f921"
             ]
            ],
            "type": "heatmapgl"
           }
          ],
          "histogram": [
           {
            "marker": {
             "colorbar": {
              "outlinewidth": 0,
              "ticks": ""
             }
            },
            "type": "histogram"
           }
          ],
          "histogram2d": [
           {
            "colorbar": {
             "outlinewidth": 0,
             "ticks": ""
            },
            "colorscale": [
             [
              0,
              "#0d0887"
             ],
             [
              0.1111111111111111,
              "#46039f"
             ],
             [
              0.2222222222222222,
              "#7201a8"
             ],
             [
              0.3333333333333333,
              "#9c179e"
             ],
             [
              0.4444444444444444,
              "#bd3786"
             ],
             [
              0.5555555555555556,
              "#d8576b"
             ],
             [
              0.6666666666666666,
              "#ed7953"
             ],
             [
              0.7777777777777778,
              "#fb9f3a"
             ],
             [
              0.8888888888888888,
              "#fdca26"
             ],
             [
              1,
              "#f0f921"
             ]
            ],
            "type": "histogram2d"
           }
          ],
          "histogram2dcontour": [
           {
            "colorbar": {
             "outlinewidth": 0,
             "ticks": ""
            },
            "colorscale": [
             [
              0,
              "#0d0887"
             ],
             [
              0.1111111111111111,
              "#46039f"
             ],
             [
              0.2222222222222222,
              "#7201a8"
             ],
             [
              0.3333333333333333,
              "#9c179e"
             ],
             [
              0.4444444444444444,
              "#bd3786"
             ],
             [
              0.5555555555555556,
              "#d8576b"
             ],
             [
              0.6666666666666666,
              "#ed7953"
             ],
             [
              0.7777777777777778,
              "#fb9f3a"
             ],
             [
              0.8888888888888888,
              "#fdca26"
             ],
             [
              1,
              "#f0f921"
             ]
            ],
            "type": "histogram2dcontour"
           }
          ],
          "mesh3d": [
           {
            "colorbar": {
             "outlinewidth": 0,
             "ticks": ""
            },
            "type": "mesh3d"
           }
          ],
          "parcoords": [
           {
            "line": {
             "colorbar": {
              "outlinewidth": 0,
              "ticks": ""
             }
            },
            "type": "parcoords"
           }
          ],
          "pie": [
           {
            "automargin": true,
            "type": "pie"
           }
          ],
          "scatter": [
           {
            "marker": {
             "colorbar": {
              "outlinewidth": 0,
              "ticks": ""
             }
            },
            "type": "scatter"
           }
          ],
          "scatter3d": [
           {
            "line": {
             "colorbar": {
              "outlinewidth": 0,
              "ticks": ""
             }
            },
            "marker": {
             "colorbar": {
              "outlinewidth": 0,
              "ticks": ""
             }
            },
            "type": "scatter3d"
           }
          ],
          "scattercarpet": [
           {
            "marker": {
             "colorbar": {
              "outlinewidth": 0,
              "ticks": ""
             }
            },
            "type": "scattercarpet"
           }
          ],
          "scattergeo": [
           {
            "marker": {
             "colorbar": {
              "outlinewidth": 0,
              "ticks": ""
             }
            },
            "type": "scattergeo"
           }
          ],
          "scattergl": [
           {
            "marker": {
             "colorbar": {
              "outlinewidth": 0,
              "ticks": ""
             }
            },
            "type": "scattergl"
           }
          ],
          "scattermapbox": [
           {
            "marker": {
             "colorbar": {
              "outlinewidth": 0,
              "ticks": ""
             }
            },
            "type": "scattermapbox"
           }
          ],
          "scatterpolar": [
           {
            "marker": {
             "colorbar": {
              "outlinewidth": 0,
              "ticks": ""
             }
            },
            "type": "scatterpolar"
           }
          ],
          "scatterpolargl": [
           {
            "marker": {
             "colorbar": {
              "outlinewidth": 0,
              "ticks": ""
             }
            },
            "type": "scatterpolargl"
           }
          ],
          "scatterternary": [
           {
            "marker": {
             "colorbar": {
              "outlinewidth": 0,
              "ticks": ""
             }
            },
            "type": "scatterternary"
           }
          ],
          "surface": [
           {
            "colorbar": {
             "outlinewidth": 0,
             "ticks": ""
            },
            "colorscale": [
             [
              0,
              "#0d0887"
             ],
             [
              0.1111111111111111,
              "#46039f"
             ],
             [
              0.2222222222222222,
              "#7201a8"
             ],
             [
              0.3333333333333333,
              "#9c179e"
             ],
             [
              0.4444444444444444,
              "#bd3786"
             ],
             [
              0.5555555555555556,
              "#d8576b"
             ],
             [
              0.6666666666666666,
              "#ed7953"
             ],
             [
              0.7777777777777778,
              "#fb9f3a"
             ],
             [
              0.8888888888888888,
              "#fdca26"
             ],
             [
              1,
              "#f0f921"
             ]
            ],
            "type": "surface"
           }
          ],
          "table": [
           {
            "cells": {
             "fill": {
              "color": "#EBF0F8"
             },
             "line": {
              "color": "white"
             }
            },
            "header": {
             "fill": {
              "color": "#C8D4E3"
             },
             "line": {
              "color": "white"
             }
            },
            "type": "table"
           }
          ]
         },
         "layout": {
          "annotationdefaults": {
           "arrowcolor": "#2a3f5f",
           "arrowhead": 0,
           "arrowwidth": 1
          },
          "coloraxis": {
           "colorbar": {
            "outlinewidth": 0,
            "ticks": ""
           }
          },
          "colorscale": {
           "diverging": [
            [
             0,
             "#8e0152"
            ],
            [
             0.1,
             "#c51b7d"
            ],
            [
             0.2,
             "#de77ae"
            ],
            [
             0.3,
             "#f1b6da"
            ],
            [
             0.4,
             "#fde0ef"
            ],
            [
             0.5,
             "#f7f7f7"
            ],
            [
             0.6,
             "#e6f5d0"
            ],
            [
             0.7,
             "#b8e186"
            ],
            [
             0.8,
             "#7fbc41"
            ],
            [
             0.9,
             "#4d9221"
            ],
            [
             1,
             "#276419"
            ]
           ],
           "sequential": [
            [
             0,
             "#0d0887"
            ],
            [
             0.1111111111111111,
             "#46039f"
            ],
            [
             0.2222222222222222,
             "#7201a8"
            ],
            [
             0.3333333333333333,
             "#9c179e"
            ],
            [
             0.4444444444444444,
             "#bd3786"
            ],
            [
             0.5555555555555556,
             "#d8576b"
            ],
            [
             0.6666666666666666,
             "#ed7953"
            ],
            [
             0.7777777777777778,
             "#fb9f3a"
            ],
            [
             0.8888888888888888,
             "#fdca26"
            ],
            [
             1,
             "#f0f921"
            ]
           ],
           "sequentialminus": [
            [
             0,
             "#0d0887"
            ],
            [
             0.1111111111111111,
             "#46039f"
            ],
            [
             0.2222222222222222,
             "#7201a8"
            ],
            [
             0.3333333333333333,
             "#9c179e"
            ],
            [
             0.4444444444444444,
             "#bd3786"
            ],
            [
             0.5555555555555556,
             "#d8576b"
            ],
            [
             0.6666666666666666,
             "#ed7953"
            ],
            [
             0.7777777777777778,
             "#fb9f3a"
            ],
            [
             0.8888888888888888,
             "#fdca26"
            ],
            [
             1,
             "#f0f921"
            ]
           ]
          },
          "colorway": [
           "#636efa",
           "#EF553B",
           "#00cc96",
           "#ab63fa",
           "#FFA15A",
           "#19d3f3",
           "#FF6692",
           "#B6E880",
           "#FF97FF",
           "#FECB52"
          ],
          "font": {
           "color": "#2a3f5f"
          },
          "geo": {
           "bgcolor": "white",
           "lakecolor": "white",
           "landcolor": "#E5ECF6",
           "showlakes": true,
           "showland": true,
           "subunitcolor": "white"
          },
          "hoverlabel": {
           "align": "left"
          },
          "hovermode": "closest",
          "mapbox": {
           "style": "light"
          },
          "paper_bgcolor": "white",
          "plot_bgcolor": "#E5ECF6",
          "polar": {
           "angularaxis": {
            "gridcolor": "white",
            "linecolor": "white",
            "ticks": ""
           },
           "bgcolor": "#E5ECF6",
           "radialaxis": {
            "gridcolor": "white",
            "linecolor": "white",
            "ticks": ""
           }
          },
          "scene": {
           "xaxis": {
            "backgroundcolor": "#E5ECF6",
            "gridcolor": "white",
            "gridwidth": 2,
            "linecolor": "white",
            "showbackground": true,
            "ticks": "",
            "zerolinecolor": "white"
           },
           "yaxis": {
            "backgroundcolor": "#E5ECF6",
            "gridcolor": "white",
            "gridwidth": 2,
            "linecolor": "white",
            "showbackground": true,
            "ticks": "",
            "zerolinecolor": "white"
           },
           "zaxis": {
            "backgroundcolor": "#E5ECF6",
            "gridcolor": "white",
            "gridwidth": 2,
            "linecolor": "white",
            "showbackground": true,
            "ticks": "",
            "zerolinecolor": "white"
           }
          },
          "shapedefaults": {
           "line": {
            "color": "#2a3f5f"
           }
          },
          "ternary": {
           "aaxis": {
            "gridcolor": "white",
            "linecolor": "white",
            "ticks": ""
           },
           "baxis": {
            "gridcolor": "white",
            "linecolor": "white",
            "ticks": ""
           },
           "bgcolor": "#E5ECF6",
           "caxis": {
            "gridcolor": "white",
            "linecolor": "white",
            "ticks": ""
           }
          },
          "title": {
           "x": 0.05
          },
          "xaxis": {
           "automargin": true,
           "gridcolor": "white",
           "linecolor": "white",
           "ticks": "",
           "title": {
            "standoff": 15
           },
           "zerolinecolor": "white",
           "zerolinewidth": 2
          },
          "yaxis": {
           "automargin": true,
           "gridcolor": "white",
           "linecolor": "white",
           "ticks": "",
           "title": {
            "standoff": 15
           },
           "zerolinecolor": "white",
           "zerolinewidth": 2
          }
         }
        },
        "title": {
         "text": "Fairness Metric Visualizations -- Associated Dependent Variables in Parentheses"
        },
        "width": 800,
        "xaxis": {
         "anchor": "y",
         "autorange": true,
         "domain": [
          0,
          0.2888888888888889
         ],
         "range": [
          -0.5,
          1.5
         ],
         "type": "category"
        },
        "xaxis10": {
         "anchor": "y10",
         "autorange": true,
         "domain": [
          0,
          0.2888888888888889
         ],
         "range": [
          -0.5,
          1.5
         ],
         "type": "category"
        },
        "xaxis11": {
         "anchor": "y11",
         "autorange": true,
         "domain": [
          0.35555555555555557,
          0.6444444444444445
         ],
         "range": [
          -0.5,
          1.5
         ],
         "type": "category"
        },
        "xaxis12": {
         "anchor": "y12",
         "autorange": true,
         "domain": [
          0.7111111111111111,
          1
         ],
         "range": [
          -0.5,
          1.5
         ],
         "type": "category"
        },
        "xaxis2": {
         "anchor": "y2",
         "autorange": true,
         "domain": [
          0.35555555555555557,
          0.6444444444444445
         ],
         "range": [
          -0.5,
          1.5
         ],
         "type": "category"
        },
        "xaxis3": {
         "anchor": "y3",
         "autorange": true,
         "domain": [
          0.7111111111111111,
          1
         ],
         "range": [
          -0.5,
          1.5
         ],
         "type": "category"
        },
        "xaxis4": {
         "anchor": "y4",
         "autorange": true,
         "domain": [
          0,
          0.2888888888888889
         ],
         "range": [
          -0.5,
          1.5
         ],
         "type": "category"
        },
        "xaxis5": {
         "anchor": "y5",
         "autorange": true,
         "domain": [
          0.35555555555555557,
          0.6444444444444445
         ],
         "range": [
          -0.5,
          1.5
         ],
         "type": "category"
        },
        "xaxis6": {
         "anchor": "y6",
         "autorange": true,
         "domain": [
          0.7111111111111111,
          1
         ],
         "range": [
          -0.5,
          1.5
         ],
         "type": "category"
        },
        "xaxis7": {
         "anchor": "y7",
         "autorange": true,
         "domain": [
          0,
          0.2888888888888889
         ],
         "range": [
          -0.5,
          1.5
         ],
         "type": "category"
        },
        "xaxis8": {
         "anchor": "y8",
         "autorange": true,
         "domain": [
          0.35555555555555557,
          0.6444444444444445
         ],
         "range": [
          -0.5,
          1.5
         ],
         "type": "category"
        },
        "xaxis9": {
         "anchor": "y9",
         "autorange": true,
         "domain": [
          0.7111111111111111,
          1
         ],
         "range": [
          -0.5,
          1.5
         ],
         "type": "category"
        },
        "yaxis": {
         "anchor": "x",
         "domain": [
          0.84375,
          1
         ],
         "range": [
          0,
          1.5
         ],
         "type": "linear"
        },
        "yaxis10": {
         "anchor": "x10",
         "domain": [
          0,
          0.15625
         ],
         "range": [
          -0.15,
          0.15
         ],
         "type": "linear"
        },
        "yaxis11": {
         "anchor": "x11",
         "domain": [
          0,
          0.15625
         ],
         "range": [
          -0.15,
          0.15
         ],
         "type": "linear"
        },
        "yaxis12": {
         "anchor": "x12",
         "domain": [
          0,
          0.15625
         ],
         "range": [
          -0.15,
          0.15
         ],
         "type": "linear"
        },
        "yaxis2": {
         "anchor": "x2",
         "domain": [
          0.84375,
          1
         ],
         "range": [
          0,
          1.5
         ],
         "type": "linear"
        },
        "yaxis3": {
         "anchor": "x3",
         "domain": [
          0.84375,
          1
         ],
         "range": [
          0,
          1.5
         ],
         "type": "linear"
        },
        "yaxis4": {
         "anchor": "x4",
         "domain": [
          0.5625,
          0.71875
         ],
         "range": [
          -0.15,
          0.15
         ],
         "type": "linear"
        },
        "yaxis5": {
         "anchor": "x5",
         "domain": [
          0.5625,
          0.71875
         ],
         "range": [
          -0.15,
          0.15
         ],
         "type": "linear"
        },
        "yaxis6": {
         "anchor": "x6",
         "domain": [
          0.5625,
          0.71875
         ],
         "range": [
          -0.15,
          0.15
         ],
         "type": "linear"
        },
        "yaxis7": {
         "anchor": "x7",
         "domain": [
          0.28125,
          0.4375
         ],
         "range": [
          0,
          1.5
         ],
         "type": "linear"
        },
        "yaxis8": {
         "anchor": "x8",
         "domain": [
          0.28125,
          0.4375
         ],
         "range": [
          0,
          1.5
         ],
         "type": "linear"
        },
        "yaxis9": {
         "anchor": "x9",
         "domain": [
          0.28125,
          0.4375
         ],
         "range": [
          0,
          1.5
         ],
         "type": "linear"
        }
       }
      },
      "image/png": "[encoded data removed]",
      "text/html": [
       "<div>\n",
       "        \n",
       "        \n",
       "            <div id=\"2ffaa14a-2cab-4b44-8133-92146f7e4442\" class=\"plotly-graph-div\" style=\"height:1000px; width:800px;\"></div>\n",
       "            <script type=\"text/javascript\">\n",
       "                require([\"plotly\"], function(Plotly) {\n",
       "                    window.PLOTLYENV=window.PLOTLYENV || {};\n",
       "                    \n",
       "                if (document.getElementById(\"2ffaa14a-2cab-4b44-8133-92146f7e4442\")) {\n",
       "                    Plotly.newPlot(\n",
       "                        '2ffaa14a-2cab-4b44-8133-92146f7e4442',\n",
       "                        [{\"marker\": {\"color\": \"red\"}, \"name\": \"Fairness Thresholds\", \"type\": \"scatter\", \"x\": [\"Original\", \"Transformed\"], \"xaxis\": \"x\", \"y\": [1.2, 1.2], \"yaxis\": \"y\"}, {\"marker\": {\"color\": \"#999999\"}, \"name\": \"sex_binary (Privileged=M, Unprivileged=F)\", \"showlegend\": true, \"type\": \"bar\", \"x\": [\"Original\", \"Transformed\"], \"xaxis\": \"x\", \"y\": [1.36663, 1.175284], \"yaxis\": \"y\"}, {\"marker\": {\"color\": \"red\"}, \"name\": \"Fairness Thresholds\", \"showlegend\": false, \"type\": \"scatter\", \"x\": [\"Original\", \"Transformed\"], \"xaxis\": \"x\", \"y\": [0.8, 0.8], \"yaxis\": \"y\"}, {\"marker\": {\"color\": \"#E69F00\"}, \"name\": \"age_group_binary (Privileged= >17, Unprivileged= <=17)\", \"showlegend\": true, \"type\": \"bar\", \"x\": [\"Original\", \"Transformed\"], \"xaxis\": \"x2\", \"y\": [1.116679, 0.968666], \"yaxis\": \"y2\"}, {\"marker\": {\"color\": \"red\"}, \"name\": \"Fairness Thresholds\", \"showlegend\": false, \"type\": \"scatter\", \"x\": [\"Original\", \"Transformed\"], \"xaxis\": \"x2\", \"y\": [1.2, 1.2], \"yaxis\": \"y2\"}, {\"marker\": {\"color\": \"red\"}, \"name\": \"Fairness Thresholds\", \"showlegend\": false, \"type\": \"scatter\", \"x\": [\"Original\", \"Transformed\"], \"xaxis\": \"x2\", \"y\": [0.8, 0.8], \"yaxis\": \"y2\"}, {\"marker\": {\"color\": \"#56B4E9\"}, \"name\": \"famsize_binary (Privileged= >3, Unprivileged= <=3)\", \"showlegend\": true, \"type\": \"bar\", \"x\": [\"Original\", \"Transformed\"], \"xaxis\": \"x3\", \"y\": [1.085794, 0.940309], \"yaxis\": \"y3\"}, {\"marker\": {\"color\": \"red\"}, \"name\": \"Fairness Thresholds\", \"showlegend\": false, \"type\": \"scatter\", \"x\": [\"Original\", \"Transformed\"], \"xaxis\": \"x3\", \"y\": [1.2, 1.2], \"yaxis\": \"y3\"}, {\"marker\": {\"color\": \"red\"}, \"name\": \"Fairness Thresholds\", \"showlegend\": false, \"type\": \"scatter\", \"x\": [\"Original\", \"Transformed\"], \"xaxis\": \"x3\", \"y\": [0.8, 0.8], \"yaxis\": \"y3\"}, {\"marker\": {\"color\": \"red\"}, \"name\": \"Fairness Thresholds\", \"showlegend\": false, \"type\": \"scatter\", \"x\": [\"Original\", \"Transformed\"], \"xaxis\": \"x4\", \"y\": [0.1, 0.1], \"yaxis\": \"y4\"}, {\"marker\": {\"color\": \"#999999\"}, \"name\": \"sex_binary (Privileged=M, Unprivileged=F)\", \"showlegend\": false, \"type\": \"bar\", \"x\": [\"Original\", \"Transformed\"], \"xaxis\": \"x4\", \"y\": [0.128183, 0.06254], \"yaxis\": \"y4\"}, {\"marker\": {\"color\": \"red\"}, \"name\": \"Fairness Thresholds\", \"showlegend\": false, \"type\": \"scatter\", \"x\": [\"Original\", \"Transformed\"], \"xaxis\": \"x4\", \"y\": [-0.1, -0.1], \"yaxis\": \"y4\"}, {\"marker\": {\"color\": \"#E69F00\"}, \"name\": \"age_group_binary (Privileged= >17, Unprivileged= <=17)\", \"showlegend\": false, \"type\": \"bar\", \"x\": [\"Original\", \"Transformed\"], \"xaxis\": \"x5\", \"y\": [0.04577, -0.0126], \"yaxis\": \"y5\"}, {\"marker\": {\"color\": \"red\"}, \"name\": \"Fairness Thresholds\", \"showlegend\": false, \"type\": \"scatter\", \"x\": [\"Original\", \"Transformed\"], \"xaxis\": \"x5\", \"y\": [0.1, 0.1], \"yaxis\": \"y5\"}, {\"marker\": {\"color\": \"red\"}, \"name\": \"Fairness Thresholds\", \"showlegend\": false, \"type\": \"scatter\", \"x\": [\"Original\", \"Transformed\"], \"xaxis\": \"x5\", \"y\": [-0.1, -0.1], \"yaxis\": \"y5\"}, {\"marker\": {\"color\": \"#56B4E9\"}, \"name\": \"famsize_binary (Privileged= >3, Unprivileged= <=3)\", \"showlegend\": false, \"type\": \"bar\", \"x\": [\"Original\", \"Transformed\"], \"xaxis\": \"x6\", \"y\": [0.0344, -0.0245], \"yaxis\": \"y6\"}, {\"marker\": {\"color\": \"red\"}, \"name\": \"Fairness Thresholds\", \"showlegend\": false, \"type\": \"scatter\", \"x\": [\"Original\", \"Transformed\"], \"xaxis\": \"x6\", \"y\": [0.1, 0.1], \"yaxis\": \"y6\"}, {\"marker\": {\"color\": \"red\"}, \"name\": \"Fairness Thresholds\", \"showlegend\": false, \"type\": \"scatter\", \"x\": [\"Original\", \"Transformed\"], \"xaxis\": \"x6\", \"y\": [-0.1, -0.1], \"yaxis\": \"y6\"}, {\"marker\": {\"color\": \"red\"}, \"name\": \"Fairness Thresholds\", \"showlegend\": false, \"type\": \"scatter\", \"x\": [\"Original\", \"Transformed\"], \"xaxis\": \"x7\", \"y\": [1.2, 1.2], \"yaxis\": \"y7\"}, {\"marker\": {\"color\": \"#999999\"}, \"name\": \"sex_binary (Privileged=M, Unprivileged=F)\", \"showlegend\": false, \"type\": \"bar\", \"x\": [\"Original\", \"Transformed\"], \"xaxis\": \"x7\", \"y\": [0.817, 0.822], \"yaxis\": \"y7\"}, {\"marker\": {\"color\": \"red\"}, \"name\": \"Fairness Thresholds\", \"showlegend\": false, \"type\": \"scatter\", \"x\": [\"Original\", \"Transformed\"], \"xaxis\": \"x7\", \"y\": [0.8, 0.8], \"yaxis\": \"y7\"}, {\"marker\": {\"color\": \"#E69F00\"}, \"name\": \"age_group_binary (Privileged= >17, Unprivileged= <=17)\", \"showlegend\": false, \"type\": \"bar\", \"x\": [\"Original\", \"Transformed\"], \"xaxis\": \"x8\", \"y\": [1.082, 1.09], \"yaxis\": \"y8\"}, {\"marker\": {\"color\": \"red\"}, \"name\": \"Fairness Thresholds\", \"showlegend\": false, \"type\": \"scatter\", \"x\": [\"Original\", \"Transformed\"], \"xaxis\": \"x8\", \"y\": [1.2, 1.2], \"yaxis\": \"y8\"}, {\"marker\": {\"color\": \"red\"}, \"name\": \"Fairness Thresholds\", \"showlegend\": false, \"type\": \"scatter\", \"x\": [\"Original\", \"Transformed\"], \"xaxis\": \"x8\", \"y\": [0.8, 0.8], \"yaxis\": \"y8\"}, {\"marker\": {\"color\": \"#56B4E9\"}, \"name\": \"famsize_binary (Privileged= >3, Unprivileged= <=3)\", \"showlegend\": false, \"type\": \"bar\", \"x\": [\"Original\", \"Transformed\"], \"xaxis\": \"x9\", \"y\": [1.008, 1.015], \"yaxis\": \"y9\"}, {\"marker\": {\"color\": \"red\"}, \"name\": \"Fairness Thresholds\", \"showlegend\": false, \"type\": \"scatter\", \"x\": [\"Original\", \"Transformed\"], \"xaxis\": \"x9\", \"y\": [1.2, 1.2], \"yaxis\": \"y9\"}, {\"marker\": {\"color\": \"red\"}, \"name\": \"Fairness Thresholds\", \"showlegend\": false, \"type\": \"scatter\", \"x\": [\"Original\", \"Transformed\"], \"xaxis\": \"x9\", \"y\": [0.8, 0.8], \"yaxis\": \"y9\"}, {\"marker\": {\"color\": \"red\"}, \"name\": \"Fairness Thresholds\", \"showlegend\": false, \"type\": \"scatter\", \"x\": [\"Original\", \"Transformed\"], \"xaxis\": \"x10\", \"y\": [0.1, 0.1], \"yaxis\": \"y10\"}, {\"marker\": {\"color\": \"#999999\"}, \"name\": \"sex_binary (Privileged=M, Unprivileged=F)\", \"showlegend\": false, \"type\": \"bar\", \"x\": [\"Original\", \"Transformed\"], \"xaxis\": \"x10\", \"y\": [-0.1126, -0.1096], \"yaxis\": \"y10\"}, {\"marker\": {\"color\": \"red\"}, \"name\": \"Fairness Thresholds\", \"showlegend\": false, \"type\": \"scatter\", \"x\": [\"Original\", \"Transformed\"], \"xaxis\": \"x10\", \"y\": [-0.1, -0.1], \"yaxis\": \"y10\"}, {\"marker\": {\"color\": \"#E69F00\"}, \"name\": \"age_group_binary (Privileged= >17, Unprivileged= <=17)\", \"showlegend\": false, \"type\": \"bar\", \"x\": [\"Original\", \"Transformed\"], \"xaxis\": \"x11\", \"y\": [0.0426, 0.0466], \"yaxis\": \"y11\"}, {\"marker\": {\"color\": \"red\"}, \"name\": \"Fairness Thresholds\", \"showlegend\": false, \"type\": \"scatter\", \"x\": [\"Original\", \"Transformed\"], \"xaxis\": \"x11\", \"y\": [0.1, 0.1], \"yaxis\": \"y11\"}, {\"marker\": {\"color\": \"red\"}, \"name\": \"Fairness Thresholds\", \"showlegend\": false, \"type\": \"scatter\", \"x\": [\"Original\", \"Transformed\"], \"xaxis\": \"x11\", \"y\": [-0.1, -0.1], \"yaxis\": \"y11\"}, {\"marker\": {\"color\": \"#56B4E9\"}, \"name\": \"famsize_binary (Privileged= >3, Unprivileged= <=3)\", \"showlegend\": false, \"type\": \"bar\", \"x\": [\"Original\", \"Transformed\"], \"xaxis\": \"x12\", \"y\": [0.0045, 0.0084], \"yaxis\": \"y12\"}, {\"marker\": {\"color\": \"red\"}, \"name\": \"Fairness Thresholds\", \"showlegend\": false, \"type\": \"scatter\", \"x\": [\"Original\", \"Transformed\"], \"xaxis\": \"x12\", \"y\": [0.1, 0.1], \"yaxis\": \"y12\"}, {\"marker\": {\"color\": \"red\"}, \"name\": \"Fairness Thresholds\", \"showlegend\": false, \"type\": \"scatter\", \"x\": [\"Original\", \"Transformed\"], \"xaxis\": \"x12\", \"y\": [-0.1, -0.1], \"yaxis\": \"y12\"}],\n",
       "                        {\"annotations\": [{\"font\": {\"size\": 16}, \"showarrow\": false, \"text\": \"Disparate Impact (grade_group_binary)\", \"x\": 0.5, \"xanchor\": \"center\", \"xref\": \"paper\", \"y\": 1.0, \"yanchor\": \"bottom\", \"yref\": \"paper\"}, {\"font\": {\"size\": 16}, \"showarrow\": false, \"text\": \"Statistical Parity Difference (grade_group_binary)\", \"x\": 0.5, \"xanchor\": \"center\", \"xref\": \"paper\", \"y\": 0.71875, \"yanchor\": \"bottom\", \"yref\": \"paper\"}, {\"font\": {\"size\": 16}, \"showarrow\": false, \"text\": \"Disparate Impact (health_group_binary)\", \"x\": 0.5, \"xanchor\": \"center\", \"xref\": \"paper\", \"y\": 0.4375, \"yanchor\": \"bottom\", \"yref\": \"paper\"}, {\"font\": {\"size\": 16}, \"showarrow\": false, \"text\": \"Statistical Parity Difference (health_group_binary)\", \"x\": 0.5, \"xanchor\": \"center\", \"xref\": \"paper\", \"y\": 0.15625, \"yanchor\": \"bottom\", \"yref\": \"paper\"}], \"height\": 1000, \"template\": {\"data\": {\"bar\": [{\"error_x\": {\"color\": \"#2a3f5f\"}, \"error_y\": {\"color\": \"#2a3f5f\"}, \"marker\": {\"line\": {\"color\": \"#E5ECF6\", \"width\": 0.5}}, \"type\": \"bar\"}], \"barpolar\": [{\"marker\": {\"line\": {\"color\": \"#E5ECF6\", \"width\": 0.5}}, \"type\": \"barpolar\"}], \"carpet\": [{\"aaxis\": {\"endlinecolor\": \"#2a3f5f\", \"gridcolor\": \"white\", \"linecolor\": \"white\", \"minorgridcolor\": \"white\", \"startlinecolor\": \"#2a3f5f\"}, \"baxis\": {\"endlinecolor\": \"#2a3f5f\", \"gridcolor\": \"white\", \"linecolor\": \"white\", \"minorgridcolor\": \"white\", \"startlinecolor\": \"#2a3f5f\"}, \"type\": \"carpet\"}], \"choropleth\": [{\"colorbar\": {\"outlinewidth\": 0, \"ticks\": \"\"}, \"type\": \"choropleth\"}], \"contour\": [{\"colorbar\": {\"outlinewidth\": 0, \"ticks\": \"\"}, \"colorscale\": [[0.0, \"#0d0887\"], [0.1111111111111111, \"#46039f\"], [0.2222222222222222, \"#7201a8\"], [0.3333333333333333, \"#9c179e\"], [0.4444444444444444, \"#bd3786\"], [0.5555555555555556, \"#d8576b\"], [0.6666666666666666, \"#ed7953\"], [0.7777777777777778, \"#fb9f3a\"], [0.8888888888888888, \"#fdca26\"], [1.0, \"#f0f921\"]], \"type\": \"contour\"}], \"contourcarpet\": [{\"colorbar\": {\"outlinewidth\": 0, \"ticks\": \"\"}, \"type\": \"contourcarpet\"}], \"heatmap\": [{\"colorbar\": {\"outlinewidth\": 0, \"ticks\": \"\"}, \"colorscale\": [[0.0, \"#0d0887\"], [0.1111111111111111, \"#46039f\"], [0.2222222222222222, \"#7201a8\"], [0.3333333333333333, \"#9c179e\"], [0.4444444444444444, \"#bd3786\"], [0.5555555555555556, \"#d8576b\"], [0.6666666666666666, \"#ed7953\"], [0.7777777777777778, \"#fb9f3a\"], [0.8888888888888888, \"#fdca26\"], [1.0, \"#f0f921\"]], \"type\": \"heatmap\"}], \"heatmapgl\": [{\"colorbar\": {\"outlinewidth\": 0, \"ticks\": \"\"}, \"colorscale\": [[0.0, \"#0d0887\"], [0.1111111111111111, \"#46039f\"], [0.2222222222222222, \"#7201a8\"], [0.3333333333333333, \"#9c179e\"], [0.4444444444444444, \"#bd3786\"], [0.5555555555555556, \"#d8576b\"], [0.6666666666666666, \"#ed7953\"], [0.7777777777777778, \"#fb9f3a\"], [0.8888888888888888, \"#fdca26\"], [1.0, \"#f0f921\"]], \"type\": \"heatmapgl\"}], \"histogram\": [{\"marker\": {\"colorbar\": {\"outlinewidth\": 0, \"ticks\": \"\"}}, \"type\": \"histogram\"}], \"histogram2d\": [{\"colorbar\": {\"outlinewidth\": 0, \"ticks\": \"\"}, \"colorscale\": [[0.0, \"#0d0887\"], [0.1111111111111111, \"#46039f\"], [0.2222222222222222, \"#7201a8\"], [0.3333333333333333, \"#9c179e\"], [0.4444444444444444, \"#bd3786\"], [0.5555555555555556, \"#d8576b\"], [0.6666666666666666, \"#ed7953\"], [0.7777777777777778, \"#fb9f3a\"], [0.8888888888888888, \"#fdca26\"], [1.0, \"#f0f921\"]], \"type\": \"histogram2d\"}], \"histogram2dcontour\": [{\"colorbar\": {\"outlinewidth\": 0, \"ticks\": \"\"}, \"colorscale\": [[0.0, \"#0d0887\"], [0.1111111111111111, \"#46039f\"], [0.2222222222222222, \"#7201a8\"], [0.3333333333333333, \"#9c179e\"], [0.4444444444444444, \"#bd3786\"], [0.5555555555555556, \"#d8576b\"], [0.6666666666666666, \"#ed7953\"], [0.7777777777777778, \"#fb9f3a\"], [0.8888888888888888, \"#fdca26\"], [1.0, \"#f0f921\"]], \"type\": \"histogram2dcontour\"}], \"mesh3d\": [{\"colorbar\": {\"outlinewidth\": 0, \"ticks\": \"\"}, \"type\": \"mesh3d\"}], \"parcoords\": [{\"line\": {\"colorbar\": {\"outlinewidth\": 0, \"ticks\": \"\"}}, \"type\": \"parcoords\"}], \"pie\": [{\"automargin\": true, \"type\": \"pie\"}], \"scatter\": [{\"marker\": {\"colorbar\": {\"outlinewidth\": 0, \"ticks\": \"\"}}, \"type\": \"scatter\"}], \"scatter3d\": [{\"line\": {\"colorbar\": {\"outlinewidth\": 0, \"ticks\": \"\"}}, \"marker\": {\"colorbar\": {\"outlinewidth\": 0, \"ticks\": \"\"}}, \"type\": \"scatter3d\"}], \"scattercarpet\": [{\"marker\": {\"colorbar\": {\"outlinewidth\": 0, \"ticks\": \"\"}}, \"type\": \"scattercarpet\"}], \"scattergeo\": [{\"marker\": {\"colorbar\": {\"outlinewidth\": 0, \"ticks\": \"\"}}, \"type\": \"scattergeo\"}], \"scattergl\": [{\"marker\": {\"colorbar\": {\"outlinewidth\": 0, \"ticks\": \"\"}}, \"type\": \"scattergl\"}], \"scattermapbox\": [{\"marker\": {\"colorbar\": {\"outlinewidth\": 0, \"ticks\": \"\"}}, \"type\": \"scattermapbox\"}], \"scatterpolar\": [{\"marker\": {\"colorbar\": {\"outlinewidth\": 0, \"ticks\": \"\"}}, \"type\": \"scatterpolar\"}], \"scatterpolargl\": [{\"marker\": {\"colorbar\": {\"outlinewidth\": 0, \"ticks\": \"\"}}, \"type\": \"scatterpolargl\"}], \"scatterternary\": [{\"marker\": {\"colorbar\": {\"outlinewidth\": 0, \"ticks\": \"\"}}, \"type\": \"scatterternary\"}], \"surface\": [{\"colorbar\": {\"outlinewidth\": 0, \"ticks\": \"\"}, \"colorscale\": [[0.0, \"#0d0887\"], [0.1111111111111111, \"#46039f\"], [0.2222222222222222, \"#7201a8\"], [0.3333333333333333, \"#9c179e\"], [0.4444444444444444, \"#bd3786\"], [0.5555555555555556, \"#d8576b\"], [0.6666666666666666, \"#ed7953\"], [0.7777777777777778, \"#fb9f3a\"], [0.8888888888888888, \"#fdca26\"], [1.0, \"#f0f921\"]], \"type\": \"surface\"}], \"table\": [{\"cells\": {\"fill\": {\"color\": \"#EBF0F8\"}, \"line\": {\"color\": \"white\"}}, \"header\": {\"fill\": {\"color\": \"#C8D4E3\"}, \"line\": {\"color\": \"white\"}}, \"type\": \"table\"}]}, \"layout\": {\"annotationdefaults\": {\"arrowcolor\": \"#2a3f5f\", \"arrowhead\": 0, \"arrowwidth\": 1}, \"coloraxis\": {\"colorbar\": {\"outlinewidth\": 0, \"ticks\": \"\"}}, \"colorscale\": {\"diverging\": [[0, \"#8e0152\"], [0.1, \"#c51b7d\"], [0.2, \"#de77ae\"], [0.3, \"#f1b6da\"], [0.4, \"#fde0ef\"], [0.5, \"#f7f7f7\"], [0.6, \"#e6f5d0\"], [0.7, \"#b8e186\"], [0.8, \"#7fbc41\"], [0.9, \"#4d9221\"], [1, \"#276419\"]], \"sequential\": [[0.0, \"#0d0887\"], [0.1111111111111111, \"#46039f\"], [0.2222222222222222, \"#7201a8\"], [0.3333333333333333, \"#9c179e\"], [0.4444444444444444, \"#bd3786\"], [0.5555555555555556, \"#d8576b\"], [0.6666666666666666, \"#ed7953\"], [0.7777777777777778, \"#fb9f3a\"], [0.8888888888888888, \"#fdca26\"], [1.0, \"#f0f921\"]], \"sequentialminus\": [[0.0, \"#0d0887\"], [0.1111111111111111, \"#46039f\"], [0.2222222222222222, \"#7201a8\"], [0.3333333333333333, \"#9c179e\"], [0.4444444444444444, \"#bd3786\"], [0.5555555555555556, \"#d8576b\"], [0.6666666666666666, \"#ed7953\"], [0.7777777777777778, \"#fb9f3a\"], [0.8888888888888888, \"#fdca26\"], [1.0, \"#f0f921\"]]}, \"colorway\": [\"#636efa\", \"#EF553B\", \"#00cc96\", \"#ab63fa\", \"#FFA15A\", \"#19d3f3\", \"#FF6692\", \"#B6E880\", \"#FF97FF\", \"#FECB52\"], \"font\": {\"color\": \"#2a3f5f\"}, \"geo\": {\"bgcolor\": \"white\", \"lakecolor\": \"white\", \"landcolor\": \"#E5ECF6\", \"showlakes\": true, \"showland\": true, \"subunitcolor\": \"white\"}, \"hoverlabel\": {\"align\": \"left\"}, \"hovermode\": \"closest\", \"mapbox\": {\"style\": \"light\"}, \"paper_bgcolor\": \"white\", \"plot_bgcolor\": \"#E5ECF6\", \"polar\": {\"angularaxis\": {\"gridcolor\": \"white\", \"linecolor\": \"white\", \"ticks\": \"\"}, \"bgcolor\": \"#E5ECF6\", \"radialaxis\": {\"gridcolor\": \"white\", \"linecolor\": \"white\", \"ticks\": \"\"}}, \"scene\": {\"xaxis\": {\"backgroundcolor\": \"#E5ECF6\", \"gridcolor\": \"white\", \"gridwidth\": 2, \"linecolor\": \"white\", \"showbackground\": true, \"ticks\": \"\", \"zerolinecolor\": \"white\"}, \"yaxis\": {\"backgroundcolor\": \"#E5ECF6\", \"gridcolor\": \"white\", \"gridwidth\": 2, \"linecolor\": \"white\", \"showbackground\": true, \"ticks\": \"\", \"zerolinecolor\": \"white\"}, \"zaxis\": {\"backgroundcolor\": \"#E5ECF6\", \"gridcolor\": \"white\", \"gridwidth\": 2, \"linecolor\": \"white\", \"showbackground\": true, \"ticks\": \"\", \"zerolinecolor\": \"white\"}}, \"shapedefaults\": {\"line\": {\"color\": \"#2a3f5f\"}}, \"ternary\": {\"aaxis\": {\"gridcolor\": \"white\", \"linecolor\": \"white\", \"ticks\": \"\"}, \"baxis\": {\"gridcolor\": \"white\", \"linecolor\": \"white\", \"ticks\": \"\"}, \"bgcolor\": \"#E5ECF6\", \"caxis\": {\"gridcolor\": \"white\", \"linecolor\": \"white\", \"ticks\": \"\"}}, \"title\": {\"x\": 0.05}, \"xaxis\": {\"automargin\": true, \"gridcolor\": \"white\", \"linecolor\": \"white\", \"ticks\": \"\", \"title\": {\"standoff\": 15}, \"zerolinecolor\": \"white\", \"zerolinewidth\": 2}, \"yaxis\": {\"automargin\": true, \"gridcolor\": \"white\", \"linecolor\": \"white\", \"ticks\": \"\", \"title\": {\"standoff\": 15}, \"zerolinecolor\": \"white\", \"zerolinewidth\": 2}}}, \"title\": {\"text\": \"Fairness Metric Visualizations -- Associated Dependent Variables in Parentheses\"}, \"width\": 800, \"xaxis\": {\"anchor\": \"y\", \"domain\": [0.0, 0.2888888888888889]}, \"xaxis10\": {\"anchor\": \"y10\", \"domain\": [0.0, 0.2888888888888889]}, \"xaxis11\": {\"anchor\": \"y11\", \"domain\": [0.35555555555555557, 0.6444444444444445]}, \"xaxis12\": {\"anchor\": \"y12\", \"domain\": [0.7111111111111111, 1.0]}, \"xaxis2\": {\"anchor\": \"y2\", \"domain\": [0.35555555555555557, 0.6444444444444445]}, \"xaxis3\": {\"anchor\": \"y3\", \"domain\": [0.7111111111111111, 1.0]}, \"xaxis4\": {\"anchor\": \"y4\", \"domain\": [0.0, 0.2888888888888889]}, \"xaxis5\": {\"anchor\": \"y5\", \"domain\": [0.35555555555555557, 0.6444444444444445]}, \"xaxis6\": {\"anchor\": \"y6\", \"domain\": [0.7111111111111111, 1.0]}, \"xaxis7\": {\"anchor\": \"y7\", \"domain\": [0.0, 0.2888888888888889]}, \"xaxis8\": {\"anchor\": \"y8\", \"domain\": [0.35555555555555557, 0.6444444444444445]}, \"xaxis9\": {\"anchor\": \"y9\", \"domain\": [0.7111111111111111, 1.0]}, \"yaxis\": {\"anchor\": \"x\", \"domain\": [0.84375, 1.0], \"range\": [0, 1.5]}, \"yaxis10\": {\"anchor\": \"x10\", \"domain\": [0.0, 0.15625], \"range\": [-0.15, 0.15]}, \"yaxis11\": {\"anchor\": \"x11\", \"domain\": [0.0, 0.15625], \"range\": [-0.15, 0.15]}, \"yaxis12\": {\"anchor\": \"x12\", \"domain\": [0.0, 0.15625], \"range\": [-0.15, 0.15]}, \"yaxis2\": {\"anchor\": \"x2\", \"domain\": [0.84375, 1.0], \"range\": [0, 1.5]}, \"yaxis3\": {\"anchor\": \"x3\", \"domain\": [0.84375, 1.0], \"range\": [0, 1.5]}, \"yaxis4\": {\"anchor\": \"x4\", \"domain\": [0.5625, 0.71875], \"range\": [-0.15, 0.15]}, \"yaxis5\": {\"anchor\": \"x5\", \"domain\": [0.5625, 0.71875], \"range\": [-0.15, 0.15]}, \"yaxis6\": {\"anchor\": \"x6\", \"domain\": [0.5625, 0.71875], \"range\": [-0.15, 0.15]}, \"yaxis7\": {\"anchor\": \"x7\", \"domain\": [0.28125, 0.4375], \"range\": [0, 1.5]}, \"yaxis8\": {\"anchor\": \"x8\", \"domain\": [0.28125, 0.4375], \"range\": [0, 1.5]}, \"yaxis9\": {\"anchor\": \"x9\", \"domain\": [0.28125, 0.4375], \"range\": [0, 1.5]}},\n",
       "                        {\"responsive\": true}\n",
       "                    ).then(function(){\n",
       "                            \n",
       "var gd = document.getElementById('2ffaa14a-2cab-4b44-8133-92146f7e4442');\n",
       "var x = new MutationObserver(function (mutations, observer) {{\n",
       "        var display = window.getComputedStyle(gd).display;\n",
       "        if (!display || display === 'none') {{\n",
       "            console.log([gd, 'removed!']);\n",
       "            Plotly.purge(gd);\n",
       "            observer.disconnect();\n",
       "        }}\n",
       "}});\n",
       "\n",
       "// Listen for the removal of the full notebook cells\n",
       "var notebookContainer = gd.closest('#notebook-container');\n",
       "if (notebookContainer) {{\n",
       "    x.observe(notebookContainer, {childList: true});\n",
       "}}\n",
       "\n",
       "// Listen for the clearing of the current output cell\n",
       "var outputEl = gd.closest('.output');\n",
       "if (outputEl) {{\n",
       "    x.observe(outputEl, {childList: true});\n",
       "}}\n",
       "\n",
       "                        })\n",
       "                };\n",
       "                });\n",
       "            </script>\n",
       "        </div>"
      ]
     },
     "metadata": {},
     "output_type": "display_data"
    }
   ],
   "source": [
    "# colorblind palette:\n",
    "palette = [\"#999999\", \"#E69F00\", \"#56B4E9\", \"#009E73\", \"#F0E442\", \"#0072B2\", \"#D55E00\", \"#CC79A7\"]\n",
    "\n",
    "fig = make_subplots(\n",
    "    rows=4, cols=3,\n",
    "    subplot_titles=[\n",
    "        None,\n",
    "        'Disparate Impact (grade_group_binary)',\n",
    "        None,\n",
    "        None,\n",
    "        'Statistical Parity Difference (grade_group_binary)',\n",
    "        None,\n",
    "        None,\n",
    "        'Disparate Impact (health_group_binary)',\n",
    "        None,\n",
    "        None,\n",
    "        'Statistical Parity Difference (health_group_binary)',\n",
    "        None\n",
    "    ]\n",
    ")\n",
    "    \n",
    "fig.update_layout(\n",
    "    height=1_000, \n",
    "    width=800,\n",
    "    title_text='Fairness Metric Visualizations -- Associated Dependent Variables in Parentheses'\n",
    ")\n",
    "\n",
    "#### Row 1\n",
    "fig.add_trace(\n",
    "    go.Scatter(\n",
    "        x=['Original', 'Transformed'],\n",
    "        y=[1.2, 1.2],\n",
    "        marker=dict(color='red'),\n",
    "        name='Fairness Thresholds'\n",
    "    ),\n",
    "    row=1, col=1\n",
    ")\n",
    "\n",
    "fig.add_trace(\n",
    "    go.Bar(\n",
    "        x=['Original', 'Transformed'],\n",
    "        y=[1.366630, 1.175284],\n",
    "        name='sex_binary (Privileged=M, Unprivileged=F)',\n",
    "        marker={'color': palette[0]},\n",
    "        showlegend=True\n",
    "    ),\n",
    "    row=1, col=1\n",
    ")\n",
    "\n",
    "\n",
    "\n",
    "fig.add_trace(\n",
    "    go.Scatter(\n",
    "        x=['Original', 'Transformed'],\n",
    "        y=[0.8, 0.8],\n",
    "        marker=dict(color='red'),\n",
    "        name='Fairness Thresholds',\n",
    "        showlegend=False\n",
    "    ),\n",
    "    row=1, col=1\n",
    ")\n",
    "\n",
    "####\n",
    "\n",
    "fig.add_trace(\n",
    "    go.Bar(\n",
    "        x=['Original', 'Transformed'],\n",
    "        y=[1.116679, 0.968666],\n",
    "        name='age_group_binary (Privileged= >17, Unprivileged= <=17)',\n",
    "        marker={'color': palette[1]},\n",
    "        showlegend=True\n",
    "    ),\n",
    "    row=1, col=2\n",
    ")\n",
    "\n",
    "fig.add_trace(\n",
    "    go.Scatter(\n",
    "        x=['Original', 'Transformed'],\n",
    "        y=[1.2, 1.2],\n",
    "        marker=dict(color='red'),\n",
    "        name='Fairness Thresholds',\n",
    "        showlegend=False\n",
    "    ),\n",
    "    row=1, col=2\n",
    ")\n",
    "\n",
    "fig.add_trace(\n",
    "    go.Scatter(\n",
    "        x=['Original', 'Transformed'],\n",
    "        y=[0.8, 0.8],\n",
    "        marker=dict(color='red'),\n",
    "        name='Fairness Thresholds',\n",
    "        showlegend=False\n",
    "    ),\n",
    "    row=1, col=2\n",
    ")\n",
    "\n",
    "####\n",
    "\n",
    "fig.add_trace(\n",
    "    go.Bar(\n",
    "        x=['Original', 'Transformed'],\n",
    "        y=[1.085794, 0.940309],\n",
    "        name='famsize_binary (Privileged= >3, Unprivileged= <=3)',\n",
    "        marker={'color': palette[2]},\n",
    "        showlegend=True\n",
    "    ),\n",
    "    row=1, col=3\n",
    ")\n",
    "\n",
    "fig.add_trace(\n",
    "    go.Scatter(\n",
    "        x=['Original', 'Transformed'],\n",
    "        y=[1.2, 1.2],\n",
    "        marker=dict(color='red'),\n",
    "        name='Fairness Thresholds',\n",
    "        showlegend=False\n",
    "    ),\n",
    "    row=1, col=3\n",
    ")\n",
    "\n",
    "fig.add_trace(\n",
    "    go.Scatter(\n",
    "        x=['Original', 'Transformed'],\n",
    "        y=[0.8, 0.8],\n",
    "        marker=dict(color='red'),\n",
    "        name='Fairness Thresholds',\n",
    "        showlegend=False\n",
    "    ),\n",
    "    row=1, col=3\n",
    ")\n",
    "\n",
    "\n",
    "#### Row 2\n",
    "fig.add_trace(\n",
    "    go.Scatter(\n",
    "        x=['Original', 'Transformed'],\n",
    "        y=[0.1, 0.1],\n",
    "        marker=dict(color='red'),\n",
    "        name='Fairness Thresholds',\n",
    "        showlegend=False\n",
    "    ),\n",
    "    row=2, col=1\n",
    ")\n",
    "\n",
    "fig.add_trace(\n",
    "    go.Bar(\n",
    "        x=['Original', 'Transformed'],\n",
    "        y=[0.128183, 0.062540],\n",
    "        name='sex_binary (Privileged=M, Unprivileged=F)',\n",
    "        marker={'color': palette[0]},\n",
    "        showlegend=False\n",
    "    ),\n",
    "    row=2, col=1\n",
    ")\n",
    "\n",
    "\n",
    "\n",
    "fig.add_trace(\n",
    "    go.Scatter(\n",
    "        x=['Original', 'Transformed'],\n",
    "        y=[-0.1, -0.1],\n",
    "        marker=dict(color='red'),\n",
    "        name='Fairness Thresholds',\n",
    "        showlegend=False\n",
    "    ),\n",
    "    row=2, col=1\n",
    ")\n",
    "\n",
    "####\n",
    "\n",
    "fig.add_trace(\n",
    "    go.Bar(\n",
    "        x=['Original', 'Transformed'],\n",
    "        y=[0.04577, -0.0126],\n",
    "        name='age_group_binary (Privileged= >17, Unprivileged= <=17)',\n",
    "        marker={'color': palette[1]},\n",
    "        showlegend=False\n",
    "    ),\n",
    "    row=2, col=2\n",
    ")\n",
    "\n",
    "fig.add_trace(\n",
    "    go.Scatter(\n",
    "        x=['Original', 'Transformed'],\n",
    "        y=[0.1, 0.1],\n",
    "        marker=dict(color='red'),\n",
    "        name='Fairness Thresholds',\n",
    "        showlegend=False\n",
    "    ),\n",
    "    row=2, col=2\n",
    ")\n",
    "\n",
    "fig.add_trace(\n",
    "    go.Scatter(\n",
    "        x=['Original', 'Transformed'],\n",
    "        y=[-0.1, -0.1],\n",
    "        marker=dict(color='red'),\n",
    "        name='Fairness Thresholds',\n",
    "        showlegend=False\n",
    "    ),\n",
    "    row=2, col=2\n",
    ")\n",
    "\n",
    "####\n",
    "\n",
    "fig.add_trace(\n",
    "    go.Bar(\n",
    "        x=['Original', 'Transformed'],\n",
    "        y=[0.0344, -0.0245],\n",
    "        name='famsize_binary (Privileged= >3, Unprivileged= <=3)',\n",
    "        marker={'color': palette[2]},\n",
    "        showlegend=False\n",
    "    ),\n",
    "    row=2, col=3\n",
    ")\n",
    "\n",
    "fig.add_trace(\n",
    "    go.Scatter(\n",
    "        x=['Original', 'Transformed'],\n",
    "        y=[0.1, 0.1],\n",
    "        marker=dict(color='red'),\n",
    "        name='Fairness Thresholds',\n",
    "        showlegend=False\n",
    "    ),\n",
    "    row=2, col=3\n",
    ")\n",
    "\n",
    "fig.add_trace(\n",
    "    go.Scatter(\n",
    "        x=['Original', 'Transformed'],\n",
    "        y=[-0.1, -0.1],\n",
    "        marker=dict(color='red'),\n",
    "        name='Fairness Thresholds',\n",
    "        showlegend=False\n",
    "    ),\n",
    "    row=2, col=3\n",
    ")\n",
    "\n",
    "#### Row 3\n",
    "fig.add_trace(\n",
    "    go.Scatter(\n",
    "        x=['Original', 'Transformed'],\n",
    "        y=[1.2, 1.2],\n",
    "        marker=dict(color='red'),\n",
    "        name='Fairness Thresholds',\n",
    "        showlegend=False\n",
    "    ),\n",
    "    row=3, col=1\n",
    ")\n",
    "\n",
    "fig.add_trace(\n",
    "    go.Bar(\n",
    "        x=['Original', 'Transformed'],\n",
    "        y=[0.817, 0.822],\n",
    "        name='sex_binary (Privileged=M, Unprivileged=F)',\n",
    "        marker={'color': palette[0]},\n",
    "        showlegend=False\n",
    "    ),\n",
    "    row=3, col=1\n",
    ")\n",
    "\n",
    "\n",
    "\n",
    "fig.add_trace(\n",
    "    go.Scatter(\n",
    "        x=['Original', 'Transformed'],\n",
    "        y=[0.8, 0.8],\n",
    "        marker=dict(color='red'),\n",
    "        name='Fairness Thresholds',\n",
    "        showlegend=False\n",
    "    ),\n",
    "    row=3, col=1\n",
    ")\n",
    "\n",
    "####\n",
    "\n",
    "fig.add_trace(\n",
    "    go.Bar(\n",
    "        x=['Original', 'Transformed'],\n",
    "        y=[1.082, 1.09],\n",
    "        name='age_group_binary (Privileged= >17, Unprivileged= <=17)',\n",
    "        marker={'color': palette[1]},\n",
    "        showlegend=False\n",
    "    ),\n",
    "    row=3, col=2\n",
    ")\n",
    "\n",
    "fig.add_trace(\n",
    "    go.Scatter(\n",
    "        x=['Original', 'Transformed'],\n",
    "        y=[1.2, 1.2],\n",
    "        marker=dict(color='red'),\n",
    "        name='Fairness Thresholds',\n",
    "        showlegend=False\n",
    "    ),\n",
    "    row=3, col=2\n",
    ")\n",
    "\n",
    "fig.add_trace(\n",
    "    go.Scatter(\n",
    "        x=['Original', 'Transformed'],\n",
    "        y=[0.8, 0.8],\n",
    "        marker=dict(color='red'),\n",
    "        name='Fairness Thresholds',\n",
    "        showlegend=False\n",
    "    ),\n",
    "    row=3, col=2\n",
    ")\n",
    "\n",
    "####\n",
    "\n",
    "fig.add_trace(\n",
    "    go.Bar(\n",
    "        x=['Original', 'Transformed'],\n",
    "        y=[1.008, 1.015],\n",
    "        name='famsize_binary (Privileged= >3, Unprivileged= <=3)',\n",
    "        marker={'color': palette[2]},\n",
    "        showlegend=False\n",
    "    ),\n",
    "    row=3, col=3\n",
    ")\n",
    "\n",
    "fig.add_trace(\n",
    "    go.Scatter(\n",
    "        x=['Original', 'Transformed'],\n",
    "        y=[1.2, 1.2],\n",
    "        marker=dict(color='red'),\n",
    "        name='Fairness Thresholds',\n",
    "        showlegend=False\n",
    "    ),\n",
    "    row=3, col=3\n",
    ")\n",
    "\n",
    "fig.add_trace(\n",
    "    go.Scatter(\n",
    "        x=['Original', 'Transformed'],\n",
    "        y=[0.8, 0.8],\n",
    "        marker=dict(color='red'),\n",
    "        name='Fairness Thresholds',\n",
    "        showlegend=False\n",
    "    ),\n",
    "    row=3, col=3\n",
    ")\n",
    "\n",
    "#### Row 4\n",
    "fig.add_trace(\n",
    "    go.Scatter(\n",
    "        x=['Original', 'Transformed'],\n",
    "        y=[0.1, 0.1],\n",
    "        marker=dict(color='red'),\n",
    "        name='Fairness Thresholds',\n",
    "        showlegend=False\n",
    "    ),\n",
    "    row=4, col=1\n",
    ")\n",
    "\n",
    "fig.add_trace(\n",
    "    go.Bar(\n",
    "        x=['Original', 'Transformed'],\n",
    "        y=[-0.1126, -0.1096],\n",
    "        name='sex_binary (Privileged=M, Unprivileged=F)',\n",
    "        marker={'color': palette[0]},\n",
    "        showlegend=False\n",
    "    ),\n",
    "    row=4, col=1\n",
    ")\n",
    "\n",
    "\n",
    "\n",
    "fig.add_trace(\n",
    "    go.Scatter(\n",
    "        x=['Original', 'Transformed'],\n",
    "        y=[-0.1, -0.1],\n",
    "        marker=dict(color='red'),\n",
    "        name='Fairness Thresholds',\n",
    "        showlegend=False\n",
    "    ),\n",
    "    row=4, col=1\n",
    ")\n",
    "\n",
    "####\n",
    "\n",
    "fig.add_trace(\n",
    "    go.Bar(\n",
    "        x=['Original', 'Transformed'],\n",
    "        y=[0.0426, 0.0466],\n",
    "        name='age_group_binary (Privileged= >17, Unprivileged= <=17)',\n",
    "        marker={'color': palette[1]},\n",
    "        showlegend=False\n",
    "    ),\n",
    "    row=4, col=2\n",
    ")\n",
    "\n",
    "fig.add_trace(\n",
    "    go.Scatter(\n",
    "        x=['Original', 'Transformed'],\n",
    "        y=[0.1, 0.1],\n",
    "        marker=dict(color='red'),\n",
    "        name='Fairness Thresholds',\n",
    "        showlegend=False\n",
    "    ),\n",
    "    row=4, col=2\n",
    ")\n",
    "\n",
    "fig.add_trace(\n",
    "    go.Scatter(\n",
    "        x=['Original', 'Transformed'],\n",
    "        y=[-0.1, -0.1],\n",
    "        marker=dict(color='red'),\n",
    "        name='Fairness Thresholds',\n",
    "        showlegend=False\n",
    "    ),\n",
    "    row=4, col=2\n",
    ")\n",
    "\n",
    "####\n",
    "\n",
    "fig.add_trace(\n",
    "    go.Bar(\n",
    "        x=['Original', 'Transformed'],\n",
    "        y=[0.0045, 0.0084],\n",
    "        name='famsize_binary (Privileged= >3, Unprivileged= <=3)',\n",
    "        marker={'color': palette[2]},\n",
    "        showlegend=False\n",
    "    ),\n",
    "    row=4, col=3\n",
    ")\n",
    "\n",
    "fig.add_trace(\n",
    "    go.Scatter(\n",
    "        x=['Original', 'Transformed'],\n",
    "        y=[0.1, 0.1],\n",
    "        marker=dict(color='red'),\n",
    "        name='Fairness Thresholds',\n",
    "        showlegend=False\n",
    "    ),\n",
    "    row=4, col=3\n",
    ")\n",
    "\n",
    "fig.add_trace(\n",
    "    go.Scatter(\n",
    "        x=['Original', 'Transformed'],\n",
    "        y=[-0.1, -0.1],\n",
    "        marker=dict(color='red'),\n",
    "        name='Fairness Thresholds',\n",
    "        showlegend=False\n",
    "    ),\n",
    "    row=4, col=3\n",
    ")\n",
    "\n",
    "\n",
    "\n",
    "fig.update_yaxes(range=[0, 1.5], row=1)\n",
    "fig.update_yaxes(range=[-0.15, 0.15], row=2)\n",
    "fig.update_yaxes(range=[0, 1.5], row=3)\n",
    "fig.update_yaxes(range=[-0.15, 0.15], row=4)\n",
    "\n",
    "\n",
    "fig.show()"
   ]
  },
  {
   "cell_type": "code",
   "execution_count": null,
   "metadata": {},
   "outputs": [],
   "source": []
  },
  {
   "cell_type": "code",
   "execution_count": null,
   "metadata": {},
   "outputs": [],
   "source": []
  },
  {
   "cell_type": "code",
   "execution_count": null,
   "metadata": {},
   "outputs": [],
   "source": []
  },
  {
   "cell_type": "code",
   "execution_count": null,
   "metadata": {},
   "outputs": [],
   "source": []
  },
  {
   "cell_type": "code",
   "execution_count": null,
   "metadata": {},
   "outputs": [],
   "source": []
  }
 ],
 "metadata": {
  "kernelspec": {
   "display_name": "Python 3",
   "language": "python",
   "name": "python3"
  },
  "language_info": {
   "codemirror_mode": {
    "name": "ipython",
    "version": 3
   },
   "file_extension": ".py",
   "mimetype": "text/x-python",
   "name": "python",
   "nbconvert_exporter": "python",
   "pygments_lexer": "ipython3",
   "version": "3.7.3"
  }
 },
 "nbformat": 4,
 "nbformat_minor": 2
}
